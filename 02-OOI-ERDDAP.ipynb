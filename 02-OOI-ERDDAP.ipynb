{
 "cells": [
  {
   "cell_type": "code",
   "execution_count": null,
   "metadata": {
    "slideshow": {
     "slide_type": "skip"
    }
   },
   "outputs": [],
   "source": [
    "%matplotlib inline\n",
    "from pandas.plotting import register_matplotlib_converters\n",
    "register_matplotlib_converters()"
   ]
  },
  {
   "cell_type": "markdown",
   "metadata": {
    "slideshow": {
     "slide_type": "slide"
    }
   },
   "source": [
    "# Exploring the OOI ERDDAP server\n",
    "\n",
    "### Learning objectives:\n",
    "\n",
    "- Explorer an ERDDAP server with the python interface (erddapy);\n",
    "- Find a glider for a time/region of interest;\n",
    "- Download the data with a familiar format and create some plots."
   ]
  },
  {
   "cell_type": "code",
   "execution_count": null,
   "metadata": {
    "slideshow": {
     "slide_type": "slide"
    }
   },
   "outputs": [],
   "source": [
    "from erddapy import ERDDAP\n",
    "\n",
    "\n",
    "server = (\"https://erddap-uncabled.oceanobservatories.org/\"\n",
    "          \"uncabled/erddap\")\n",
    "e = ERDDAP(server=server)"
   ]
  },
  {
   "cell_type": "markdown",
   "metadata": {
    "slideshow": {
     "slide_type": "slide"
    }
   },
   "source": [
    "### What services are available in the **erddap-uncabled.oceanobservatories** server?"
   ]
  },
  {
   "cell_type": "code",
   "execution_count": null,
   "metadata": {
    "slideshow": {
     "slide_type": "fragment"
    }
   },
   "outputs": [],
   "source": [
    "import pandas as pd\n",
    "\n",
    "\n",
    "df = pd.read_csv(\n",
    "    e.get_search_url(response='csv', search_for='all')\n",
    ")"
   ]
  },
  {
   "cell_type": "code",
   "execution_count": null,
   "metadata": {
    "slideshow": {
     "slide_type": "slide"
    }
   },
   "outputs": [],
   "source": [
    "print(\n",
    "    f'We have {len(set(df[\"tabledap\"].dropna()))} '\n",
    "    f'tabledap, {len(set(df[\"griddap\"].dropna()))} '\n",
    "    f'griddap, and {len(set(df[\"wms\"].dropna()))} wms endpoints.'\n",
    ")"
   ]
  },
  {
   "cell_type": "markdown",
   "metadata": {
    "slideshow": {
     "slide_type": "slide"
    }
   },
   "source": [
    "### Let's query all the datasets that have the \"trajectory\" CDM data type."
   ]
  },
  {
   "cell_type": "code",
   "execution_count": null,
   "metadata": {
    "slideshow": {
     "slide_type": "fragment"
    }
   },
   "outputs": [],
   "source": [
    "url = e.get_categorize_url(\n",
    "    categorize_by=\"cdm_data_type\",\n",
    "    value=\"trajectory\",\n",
    "    response=\"csv\",\n",
    ")\n",
    "\n",
    "df = pd.read_csv(url)\n",
    "dataset_ids = df.loc[~df['tabledap'].isnull(), 'Dataset ID'].tolist()\n",
    "\n",
    "dataset_ids_list = \"\\n\".join(dataset_ids)\n",
    "print(f\"Found {len(dataset_ids)} datasets\")"
   ]
  },
  {
   "cell_type": "markdown",
   "metadata": {
    "slideshow": {
     "slide_type": "slide"
    }
   },
   "source": [
    "### We don't really want all that! Let us get all the deployments that have *salinity* data within a lon/lat/time extent."
   ]
  },
  {
   "cell_type": "code",
   "execution_count": null,
   "metadata": {
    "slideshow": {
     "slide_type": "fragment"
    }
   },
   "outputs": [],
   "source": [
    "kw = {\n",
    "    \"min_time\": \"2017-01-05T00:00:00Z\",\n",
    "    \"min_time\": \"2019-06-12T00:00:00Z\",\n",
    "    \"min_lon\": -136,\n",
    "    \"max_lon\": -120,\n",
    "    \"min_lat\": 41.78,\n",
    "    \"max_lat\": 52.24,\n",
    "    \"standard_name\": \"sea_water_practical_salinity\",\n",
    "    \"cdm_data_type\": \"trajectory\",\n",
    "}"
   ]
  },
  {
   "cell_type": "code",
   "execution_count": null,
   "metadata": {
    "slideshow": {
     "slide_type": "slide"
    }
   },
   "outputs": [],
   "source": [
    "search_url = e.get_search_url(response=\"csv\", **kw)\n",
    "search = pd.read_csv(search_url)\n",
    "dataset_ids = search[\"Dataset ID\"].values\n",
    "\n",
    "dataset_ids_list = \"\\n\".join(dataset_ids)\n",
    "print(f\"Found {len(dataset_ids)} Datasets:\\n{dataset_ids_list}\")"
   ]
  },
  {
   "cell_type": "code",
   "execution_count": null,
   "metadata": {
    "slideshow": {
     "slide_type": "slide"
    }
   },
   "outputs": [],
   "source": [
    "e.dataset_id = dataset_ids[0]\n",
    "e.protocol = \"tabledap\"\n",
    "\n",
    "e.variables = [\n",
    "    \"sci_water_pressure_dbar\",\n",
    "    \"latitude\",\n",
    "    \"longitude\",\n",
    "    \"practical_salinity\",\n",
    "    \"sci_water_temp\",\n",
    "    \"time\",\n",
    "]\n",
    "\n",
    "url = e.get_download_url()\n",
    "print(url)"
   ]
  },
  {
   "cell_type": "code",
   "execution_count": null,
   "metadata": {
    "scrolled": true,
    "slideshow": {
     "slide_type": "slide"
    }
   },
   "outputs": [],
   "source": [
    "import pandas as pd\n",
    "\n",
    "\n",
    "df = e.to_pandas(\n",
    "    index_col='time (UTC)',\n",
    "    parse_dates=True,\n",
    ").dropna()\n",
    "\n",
    "df.head()"
   ]
  },
  {
   "cell_type": "markdown",
   "metadata": {
    "slideshow": {
     "slide_type": "slide"
    }
   },
   "source": [
    "Exercise: experiment with the `e.to_xarray()` method. Why/where use one or the other?"
   ]
  },
  {
   "cell_type": "code",
   "execution_count": null,
   "metadata": {
    "slideshow": {
     "slide_type": "slide"
    }
   },
   "outputs": [],
   "source": [
    "import cartopy.crs as ccrs\n",
    "import matplotlib.pyplot as plt\n",
    "\n",
    "dx, dy = 2, 4\n",
    "x = df[\"longitude (degrees_east)\"]\n",
    "y = df[\"latitude (degrees_north)\"]\n",
    "\n",
    "fig, ax = plt.subplots(figsize=(5, 5),\n",
    "    subplot_kw={\"projection\": ccrs.PlateCarree()}\n",
    ")\n",
    "cs = ax.scatter(x, y, c=df[r\"sci_water_temp (\\u00baC)\"],\n",
    "                s=50, alpha=0.5, edgecolor='none')\n",
    "cbar = fig.colorbar(cs, orientation='vertical',\n",
    "                    fraction=0.1, shrink=0.9, extend='both')\n",
    "ax.coastlines('10m')\n",
    "ax.set_extent([x.min()-dx, x.max()+dx, y.min()-dy, y.max()+dy]);"
   ]
  },
  {
   "cell_type": "code",
   "execution_count": null,
   "metadata": {
    "slideshow": {
     "slide_type": "slide"
    }
   },
   "outputs": [],
   "source": [
    "# import matplotlib.dates as mdates\n",
    "    \n",
    "fig, ax = plt.subplots(figsize=(17, 5))\n",
    "cs = ax.scatter(df.index, df[\"sci_water_pressure_dbar (dbar)\"],\n",
    "                s=15, c=df[r\"sci_water_temp (\\u00baC)\"],\n",
    "                marker=\"o\", edgecolor=\"none\",)\n",
    "\n",
    "ax.invert_yaxis()\n",
    "ax.set_xlim(df.index[0], df.index[-1])\n",
    "# xfmt = mdates.DateFormatter(\"%H:%Mh\\n%d-%b\")\n",
    "# ax.xaxis.set_major_formatter(xfmt)\n",
    "\n",
    "cbar = fig.colorbar(cs, orientation=\"vertical\", extend=\"both\")\n",
    "cbar.ax.set_ylabel(\"Temperature ($^\\circ$C)\")\n",
    "ax.set_ylabel(\"Pressure ((dbar))\");"
   ]
  },
  {
   "cell_type": "markdown",
   "metadata": {
    "slideshow": {
     "slide_type": "slide"
    }
   },
   "source": [
    "### Exercise: enable the commented out code above and check how you can customize the time time marks."
   ]
  },
  {
   "cell_type": "code",
   "execution_count": null,
   "metadata": {
    "slideshow": {
     "slide_type": "slide"
    }
   },
   "outputs": [],
   "source": [
    "import gsw\n",
    "import numpy as np\n",
    "\n",
    "s = np.linspace(0, 42, 100)\n",
    "t = np.linspace(-2, 40, 100)\n",
    "\n",
    "s, t = np.meshgrid(s, t)\n",
    "\n",
    "sigma = gsw.sigma0(s, t)"
   ]
  },
  {
   "cell_type": "code",
   "execution_count": null,
   "metadata": {
    "slideshow": {
     "slide_type": "slide"
    }
   },
   "outputs": [],
   "source": [
    "fig, ax = plt.subplots(figsize=(5, 5))\n",
    "\n",
    "cnt = np.arange(-7, 35, 5)\n",
    "cs = ax.contour(s, t, sigma, colors='gray', levels=cnt)\n",
    "ax.clabel(cs, fontsize=9, inline=1, fmt='%2i')\n",
    "\n",
    "ax.set_xlabel('Salinity [g kg$^{-1}$]')\n",
    "ax.set_ylabel('Temperature [$^{\\circ}$C]')\n",
    "ax.scatter(df[r\"sci_water_temp (\\u00baC)\"],\n",
    "           df[\"practical_salinity (1)\"],\n",
    "           s=10, alpha=0.5)\n",
    "\n",
    "ax.grid(True)\n",
    "ax.axis([0, 20, 25, 40]);"
   ]
  },
  {
   "cell_type": "markdown",
   "metadata": {
    "slideshow": {
     "slide_type": "slide"
    }
   },
   "source": [
    "Exercise: explore the web interface for the server and find a dataset of interested, download a format that you are familiar with and plot it (using the web interface or the Python, your choice).\n",
    "\n",
    "<https://erddap-uncabled.oceanobservatories.org/uncabled/erddap>\n",
    "\n",
    "Bonus points: replicate the same query we had here using the web-interface."
   ]
  }
 ],
 "metadata": {
  "celltoolbar": "Slideshow",
  "kernelspec": {
   "display_name": "Python 3",
   "language": "python",
   "name": "python3"
  },
  "language_info": {
   "codemirror_mode": {
    "name": "ipython",
    "version": 3
   },
   "file_extension": ".py",
   "mimetype": "text/x-python",
   "name": "python",
   "nbconvert_exporter": "python",
   "pygments_lexer": "ipython3",
   "version": "3.7.3"
  },
  "livereveal": {
   "auto_select": "none",
   "autolaunch": "false",
   "footer": " ",
   "header": "<script src='static/theme/reveal.js'></script>",
   "start_slideshow_at": "selected"
  }
 },
 "nbformat": 4,
 "nbformat_minor": 2
}
