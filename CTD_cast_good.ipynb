{
 "cells": [
  {
   "cell_type": "markdown",
   "metadata": {},
   "source": [
    "# Quick introduction\n",
    "\n",
    "## Reading and plotting"
   ]
  },
  {
   "cell_type": "code",
   "execution_count": 1,
   "metadata": {},
   "outputs": [],
   "source": [
    "from pathlib import Path\n",
    "\n",
    "\n",
    "#put relative path in here\n",
    "path = Path('i06_original_resolution_cnv')\n",
    "#final file name here\n",
    "fname = path.joinpath('05001.cnv.zip')"
   ]
  },
  {
   "cell_type": "code",
   "execution_count": 2,
   "metadata": {},
   "outputs": [
    {
     "data": {
      "text/html": [
       "<div>\n",
       "<style scoped>\n",
       "    .dataframe tbody tr th:only-of-type {\n",
       "        vertical-align: middle;\n",
       "    }\n",
       "\n",
       "    .dataframe tbody tr th {\n",
       "        vertical-align: top;\n",
       "    }\n",
       "\n",
       "    .dataframe thead th {\n",
       "        text-align: right;\n",
       "    }\n",
       "</style>\n",
       "<table border=\"1\" class=\"dataframe\">\n",
       "  <thead>\n",
       "    <tr style=\"text-align: right;\">\n",
       "      <th></th>\n",
       "      <th>depSM</th>\n",
       "      <th>t090C</th>\n",
       "      <th>c0mS/cm</th>\n",
       "      <th>t190C</th>\n",
       "      <th>c1mS/cm</th>\n",
       "      <th>sal00</th>\n",
       "      <th>sal11</th>\n",
       "      <th>sbox0Mm/Kg</th>\n",
       "      <th>flECO-AFL</th>\n",
       "      <th>turbWETbb0</th>\n",
       "      <th>...</th>\n",
       "      <th>v4</th>\n",
       "      <th>v5</th>\n",
       "      <th>v7</th>\n",
       "      <th>latitude</th>\n",
       "      <th>longitude</th>\n",
       "      <th>timeS</th>\n",
       "      <th>sbeox0V</th>\n",
       "      <th>timeY</th>\n",
       "      <th>altM</th>\n",
       "      <th>flag</th>\n",
       "    </tr>\n",
       "    <tr>\n",
       "      <th>Pressure [dbar]</th>\n",
       "      <th></th>\n",
       "      <th></th>\n",
       "      <th></th>\n",
       "      <th></th>\n",
       "      <th></th>\n",
       "      <th></th>\n",
       "      <th></th>\n",
       "      <th></th>\n",
       "      <th></th>\n",
       "      <th></th>\n",
       "      <th></th>\n",
       "      <th></th>\n",
       "      <th></th>\n",
       "      <th></th>\n",
       "      <th></th>\n",
       "      <th></th>\n",
       "      <th></th>\n",
       "      <th></th>\n",
       "      <th></th>\n",
       "      <th></th>\n",
       "      <th></th>\n",
       "    </tr>\n",
       "  </thead>\n",
       "  <tbody>\n",
       "    <tr>\n",
       "      <td>0.320</td>\n",
       "      <td>0.318</td>\n",
       "      <td>14.2729</td>\n",
       "      <td>0.071797</td>\n",
       "      <td>14.1887</td>\n",
       "      <td>0.036455</td>\n",
       "      <td>0.0450</td>\n",
       "      <td>0.0251</td>\n",
       "      <td>183.420</td>\n",
       "      <td>0.1013</td>\n",
       "      <td>0.006699</td>\n",
       "      <td>...</td>\n",
       "      <td>4.9988</td>\n",
       "      <td>0.0</td>\n",
       "      <td>0.0</td>\n",
       "      <td>-34.5577</td>\n",
       "      <td>29.50868</td>\n",
       "      <td>0.000</td>\n",
       "      <td>1.6288</td>\n",
       "      <td>1.557452e+09</td>\n",
       "      <td>99.98</td>\n",
       "      <td>False</td>\n",
       "    </tr>\n",
       "    <tr>\n",
       "      <td>0.320</td>\n",
       "      <td>0.318</td>\n",
       "      <td>14.2727</td>\n",
       "      <td>0.071734</td>\n",
       "      <td>14.1889</td>\n",
       "      <td>0.036366</td>\n",
       "      <td>0.0450</td>\n",
       "      <td>0.0250</td>\n",
       "      <td>183.421</td>\n",
       "      <td>0.1013</td>\n",
       "      <td>0.006702</td>\n",
       "      <td>...</td>\n",
       "      <td>4.9963</td>\n",
       "      <td>0.0</td>\n",
       "      <td>0.0</td>\n",
       "      <td>-34.5577</td>\n",
       "      <td>29.50868</td>\n",
       "      <td>0.042</td>\n",
       "      <td>1.6288</td>\n",
       "      <td>1.557452e+09</td>\n",
       "      <td>99.93</td>\n",
       "      <td>False</td>\n",
       "    </tr>\n",
       "    <tr>\n",
       "      <td>0.362</td>\n",
       "      <td>0.360</td>\n",
       "      <td>14.2731</td>\n",
       "      <td>0.071890</td>\n",
       "      <td>14.1889</td>\n",
       "      <td>0.036455</td>\n",
       "      <td>0.0450</td>\n",
       "      <td>0.0251</td>\n",
       "      <td>183.420</td>\n",
       "      <td>0.1013</td>\n",
       "      <td>0.006702</td>\n",
       "      <td>...</td>\n",
       "      <td>4.9963</td>\n",
       "      <td>0.0</td>\n",
       "      <td>0.0</td>\n",
       "      <td>-34.5577</td>\n",
       "      <td>29.50868</td>\n",
       "      <td>0.083</td>\n",
       "      <td>1.6288</td>\n",
       "      <td>1.557452e+09</td>\n",
       "      <td>99.93</td>\n",
       "      <td>False</td>\n",
       "    </tr>\n",
       "    <tr>\n",
       "      <td>0.320</td>\n",
       "      <td>0.318</td>\n",
       "      <td>14.2732</td>\n",
       "      <td>0.071984</td>\n",
       "      <td>14.1892</td>\n",
       "      <td>0.036485</td>\n",
       "      <td>0.0451</td>\n",
       "      <td>0.0251</td>\n",
       "      <td>183.419</td>\n",
       "      <td>0.1013</td>\n",
       "      <td>0.006699</td>\n",
       "      <td>...</td>\n",
       "      <td>4.9988</td>\n",
       "      <td>0.0</td>\n",
       "      <td>0.0</td>\n",
       "      <td>-34.5577</td>\n",
       "      <td>29.50868</td>\n",
       "      <td>0.125</td>\n",
       "      <td>1.6288</td>\n",
       "      <td>1.557452e+09</td>\n",
       "      <td>99.98</td>\n",
       "      <td>False</td>\n",
       "    </tr>\n",
       "    <tr>\n",
       "      <td>0.353</td>\n",
       "      <td>0.350</td>\n",
       "      <td>14.2734</td>\n",
       "      <td>0.071828</td>\n",
       "      <td>14.1893</td>\n",
       "      <td>0.036425</td>\n",
       "      <td>0.0450</td>\n",
       "      <td>0.0251</td>\n",
       "      <td>183.419</td>\n",
       "      <td>0.1013</td>\n",
       "      <td>0.006702</td>\n",
       "      <td>...</td>\n",
       "      <td>4.9963</td>\n",
       "      <td>0.0</td>\n",
       "      <td>0.0</td>\n",
       "      <td>-34.5577</td>\n",
       "      <td>29.50868</td>\n",
       "      <td>0.167</td>\n",
       "      <td>1.6288</td>\n",
       "      <td>1.557452e+09</td>\n",
       "      <td>99.93</td>\n",
       "      <td>False</td>\n",
       "    </tr>\n",
       "  </tbody>\n",
       "</table>\n",
       "<p>5 rows × 24 columns</p>\n",
       "</div>"
      ],
      "text/plain": [
       "                 depSM    t090C   c0mS/cm    t190C   c1mS/cm   sal00   sal11  \\\n",
       "Pressure [dbar]                                                                \n",
       "0.320            0.318  14.2729  0.071797  14.1887  0.036455  0.0450  0.0251   \n",
       "0.320            0.318  14.2727  0.071734  14.1889  0.036366  0.0450  0.0250   \n",
       "0.362            0.360  14.2731  0.071890  14.1889  0.036455  0.0450  0.0251   \n",
       "0.320            0.318  14.2732  0.071984  14.1892  0.036485  0.0451  0.0251   \n",
       "0.353            0.350  14.2734  0.071828  14.1893  0.036425  0.0450  0.0251   \n",
       "\n",
       "                 sbox0Mm/Kg  flECO-AFL  turbWETbb0  ...      v4   v5   v7  \\\n",
       "Pressure [dbar]                                     ...                     \n",
       "0.320               183.420     0.1013    0.006699  ...  4.9988  0.0  0.0   \n",
       "0.320               183.421     0.1013    0.006702  ...  4.9963  0.0  0.0   \n",
       "0.362               183.420     0.1013    0.006702  ...  4.9963  0.0  0.0   \n",
       "0.320               183.419     0.1013    0.006699  ...  4.9988  0.0  0.0   \n",
       "0.353               183.419     0.1013    0.006702  ...  4.9963  0.0  0.0   \n",
       "\n",
       "                 latitude  longitude  timeS  sbeox0V         timeY   altM  \\\n",
       "Pressure [dbar]                                                             \n",
       "0.320            -34.5577   29.50868  0.000   1.6288  1.557452e+09  99.98   \n",
       "0.320            -34.5577   29.50868  0.042   1.6288  1.557452e+09  99.93   \n",
       "0.362            -34.5577   29.50868  0.083   1.6288  1.557452e+09  99.93   \n",
       "0.320            -34.5577   29.50868  0.125   1.6288  1.557452e+09  99.98   \n",
       "0.353            -34.5577   29.50868  0.167   1.6288  1.557452e+09  99.93   \n",
       "\n",
       "                  flag  \n",
       "Pressure [dbar]         \n",
       "0.320            False  \n",
       "0.320            False  \n",
       "0.362            False  \n",
       "0.320            False  \n",
       "0.353            False  \n",
       "\n",
       "[5 rows x 24 columns]"
      ]
     },
     "execution_count": 2,
     "metadata": {},
     "output_type": "execute_result"
    }
   ],
   "source": [
    "import ctd\n",
    "\n",
    "\n",
    "cast = ctd.from_cnv(fname)\n",
    "down, up = cast.split()\n",
    "\n",
    "down.head()"
   ]
  },
  {
   "cell_type": "markdown",
   "metadata": {},
   "source": [
    "It is a `pandas.DataFrame` with all the pandas methods and properties."
   ]
  },
  {
   "cell_type": "code",
   "execution_count": 3,
   "metadata": {},
   "outputs": [
    {
     "data": {
      "text/plain": [
       "pandas.core.frame.DataFrame"
      ]
     },
     "execution_count": 3,
     "metadata": {},
     "output_type": "execute_result"
    }
   ],
   "source": [
    "type(cast)"
   ]
  },
  {
   "cell_type": "markdown",
   "metadata": {},
   "source": [
    "But with extras for pre-processing and plotting a ocean vertical profiles."
   ]
  },
  {
   "cell_type": "code",
   "execution_count": 4,
   "metadata": {},
   "outputs": [
    {
     "data": {
      "image/png": "[encoded data removed]",
      "text/plain": [
       "<Figure size 378x486 with 1 Axes>"
      ]
     },
     "metadata": {},
     "output_type": "display_data"
    }
   ],
   "source": [
    "%matplotlib inline\n",
    "\n",
    "from matplotlib import style\n",
    "style.use('seaborn-whitegrid')\n",
    "\n",
    "\n",
    "down['t090C'].plot_cast()\n",
    "down['c0mS/cm'].plot_cast();"
   ]
  },
  {
   "cell_type": "markdown",
   "metadata": {},
   "source": [
    "Sometimes it is useful to plot the second variable in a different axis so we can compare the two."
   ]
  },
  {
   "cell_type": "code",
   "execution_count": 5,
   "metadata": {},
   "outputs": [
    {
     "data": {
      "image/png": "[encoded data removed]",
      "text/plain": [
       "<Figure size 378x486 with 2 Axes>"
      ]
     },
     "metadata": {},
     "output_type": "display_data"
    }
   ],
   "source": [
    "ax0 = down['t090C'].plot_cast(label='Temperature (°C)')\n",
    "ax1 = down['c0mS/cm'].plot_cast(\n",
    "    ax=ax0,\n",
    "    label='Conductivity (S/m)',\n",
    "    color='orange',\n",
    "    secondary_y=True,\n",
    ")\n",
    "\n",
    "\n",
    "lines = ax0.get_lines() + ax1.get_lines()\n",
    "leg = {\n",
    "    line: line.get_label() for line in lines\n",
    "}\n",
    "ax0.legend(leg.keys(), leg.values())\n",
    "ax0.grid(False)\n",
    "ax1.grid(False)"
   ]
  },
  {
   "cell_type": "markdown",
   "metadata": {},
   "source": [
    "`python-ctd` saves of the file metadata in a dictionary to make them easy to access later. "
   ]
  },
  {
   "cell_type": "code",
   "execution_count": 6,
   "metadata": {},
   "outputs": [
    {
     "data": {
      "text/plain": [
       "dict_keys(['header', 'config', 'names', 'skiprows', 'time', 'lon', 'lat', 'name'])"
      ]
     },
     "execution_count": 6,
     "metadata": {},
     "output_type": "execute_result"
    }
   ],
   "source": [
    "metadata = cast._metadata\n",
    "\n",
    "metadata.keys()"
   ]
  },
  {
   "cell_type": "code",
   "execution_count": 7,
   "metadata": {},
   "outputs": [
    {
     "name": "stdout",
     "output_type": "stream",
     "text": [
      "* Sea-Bird SBE 9 Data File:\n",
      "* FileName = C:\\data\\TN366\\raw\\05001.hex\n",
      "* Software Version Seasave V 7.26.7.107\n",
      "* Temperature SN = 2380\n",
      "* Conductivity SN = 2319\n",
      "* Number of Bytes Per Scan = 41\n",
      "* Number of Voltage Words = 4\n",
      "* Number of Scans Averaged by the Deck Unit = 1\n",
      "* Append System Time to Every Scan\n",
      "* System UpLoad Time = May 10 2019 01:34:55\n",
      "* NMEA Latitude = 34 33.46 S\n",
      "* NMEA Longitude = 029 30.52 E\n",
      "* NMEA UTC (Time) = May 10 2019  01:34:56\n",
      "* Store Lat/Lon Data = Append to Every Scan\n",
      "* SBE 11plus V 5.2\n",
      "* number of scans to average = 1\n",
      "* pressure baud rate = 9600\n",
      "* NMEA baud rate = 4800\n",
      "* GPIB address = 1\n",
      "* advance primary conductivity  0.073 seconds\n",
      "* advance secondary conductivity  0.073 seconds\n",
      "* autorun on power up is disabled\n",
      "* S>\n",
      "** Ship:\n",
      "** Station:\n",
      "** Operator:\n",
      "* System UTC = May 10 2019 01:34:55\n",
      "*END*\n"
     ]
    }
   ],
   "source": [
    "print(metadata['header'])"
   ]
  },
  {
   "cell_type": "markdown",
   "metadata": {},
   "source": [
    "## Pre-processing steps"
   ]
  },
  {
   "cell_type": "markdown",
   "metadata": {},
   "source": [
    "Usually the first pre-processing step is to filter the high frequency jitter in the pressure sensor with a low pass filter, here is a zoom in the pressure data (the `pandas` index) demonstrating it:"
   ]
  },
  {
   "cell_type": "code",
   "execution_count": 8,
   "metadata": {},
   "outputs": [
    {
     "data": {
      "image/png": "[encoded data removed]",
      "text/plain": [
       "<Figure size 432x288 with 1 Axes>"
      ]
     },
     "metadata": {},
     "output_type": "display_data"
    }
   ],
   "source": [
    "import matplotlib.pyplot as plt\n",
    "\n",
    "\n",
    "fig, ax = plt.subplots()\n",
    "ax.plot(down.index, label='unfiltered')\n",
    "ax.plot(down.lp_filter().index, label='filtered')\n",
    "ax.axis([39883, 39920, 889.5, 891])\n",
    "fig.legend();"
   ]
  },
  {
   "cell_type": "markdown",
   "metadata": {},
   "source": [
    "Thanks to [pandas_flavor](https://github.com/Zsailer/pandas_flavor) we can chain all the pre-processing steps together."
   ]
  },
  {
   "cell_type": "code",
   "execution_count": 9,
   "metadata": {},
   "outputs": [
    {
     "data": {
      "text/html": [
       "<div>\n",
       "<style scoped>\n",
       "    .dataframe tbody tr th:only-of-type {\n",
       "        vertical-align: middle;\n",
       "    }\n",
       "\n",
       "    .dataframe tbody tr th {\n",
       "        vertical-align: top;\n",
       "    }\n",
       "\n",
       "    .dataframe thead th {\n",
       "        text-align: right;\n",
       "    }\n",
       "</style>\n",
       "<table border=\"1\" class=\"dataframe\">\n",
       "  <thead>\n",
       "    <tr style=\"text-align: right;\">\n",
       "      <th></th>\n",
       "      <th>t090C</th>\n",
       "      <th>c0mS/cm</th>\n",
       "    </tr>\n",
       "  </thead>\n",
       "  <tbody>\n",
       "    <tr>\n",
       "      <td>1.5</td>\n",
       "      <td>22.032928</td>\n",
       "      <td>46.534360</td>\n",
       "    </tr>\n",
       "    <tr>\n",
       "      <td>2.5</td>\n",
       "      <td>22.008397</td>\n",
       "      <td>47.081194</td>\n",
       "    </tr>\n",
       "    <tr>\n",
       "      <td>3.5</td>\n",
       "      <td>21.985663</td>\n",
       "      <td>47.607336</td>\n",
       "    </tr>\n",
       "    <tr>\n",
       "      <td>4.5</td>\n",
       "      <td>21.965754</td>\n",
       "      <td>48.089383</td>\n",
       "    </tr>\n",
       "    <tr>\n",
       "      <td>5.5</td>\n",
       "      <td>21.949461</td>\n",
       "      <td>48.509991</td>\n",
       "    </tr>\n",
       "  </tbody>\n",
       "</table>\n",
       "</div>"
      ],
      "text/plain": [
       "         t090C    c0mS/cm\n",
       "1.5  22.032928  46.534360\n",
       "2.5  22.008397  47.081194\n",
       "3.5  21.985663  47.607336\n",
       "4.5  21.965754  48.089383\n",
       "5.5  21.949461  48.509991"
      ]
     },
     "execution_count": 9,
     "metadata": {},
     "output_type": "execute_result"
    }
   ],
   "source": [
    "down = down[['t090C', 'c0mS/cm']]\n",
    "\n",
    "proc = down.remove_above_water()\\\n",
    "           .despike(n1=2, n2=20, block=100)\\\n",
    "           .lp_filter()\\\n",
    "           .press_check()\\\n",
    "           .interpolate() \\\n",
    "           .bindata(delta=1)\\\n",
    "           .smooth(window_len=21, window='hanning')\n",
    "\n",
    "proc.head()"
   ]
  },
  {
   "cell_type": "markdown",
   "metadata": {},
   "source": [
    "## CTD derive\n",
    "\n",
    "Now we can compute all the derived variables."
   ]
  },
  {
   "cell_type": "code",
   "execution_count": 10,
   "metadata": {},
   "outputs": [
    {
     "data": {
      "text/plain": [
       "(29.508666666666667, -34.55766666666667)"
      ]
     },
     "execution_count": 10,
     "metadata": {},
     "output_type": "execute_result"
    }
   ],
   "source": [
    "lon, lat = metadata['lon'], metadata['lat']\n",
    "lon, lat"
   ]
  },
  {
   "cell_type": "code",
   "execution_count": 11,
   "metadata": {},
   "outputs": [],
   "source": [
    "import gsw\n",
    "\n",
    "\n",
    "p = proc.index\n",
    "\n",
    "SP = gsw.SP_from_C(proc['c0mS/cm'], proc['t090C'], p)\n",
    "SA = gsw.SA_from_SP(SP, p, lon, lat)\n",
    "SR = gsw.SR_from_SP(SP)\n",
    "\n",
    "CT = gsw.CT_from_t(SA, proc['t090C'].values, p)\n",
    "z = -gsw.z_from_p(p, lat)\n",
    "sigma0_CT = gsw.sigma0(SA, CT)\n",
    "\n",
    "proc = proc.assign(SP=SP)\\\n",
    "           .assign(SA=SA)\\\n",
    "           .assign(SR=SR)\\\n",
    "           .assign(CT=CT)\\\n",
    "           .assign(z=z)\\\n",
    "           .assign(sigma0_CT=sigma0_CT)"
   ]
  },
  {
   "cell_type": "code",
   "execution_count": 12,
   "metadata": {},
   "outputs": [
    {
     "data": {
      "image/png": "[encoded data removed]",
      "text/plain": [
       "<Figure size 378x648 with 1 Axes>"
      ]
     },
     "metadata": {},
     "output_type": "display_data"
    }
   ],
   "source": [
    "labels = [\n",
    "    r'Absolute Salinity (g kg$^{-1}$)',\n",
    "    r'Reference Salinity (g kg$^{-1}$)',\n",
    "    'Practical Salinity',\n",
    "]\n",
    "\n",
    "\n",
    "ax = proc[['SA', 'SR', 'SP']].plot_cast(\n",
    "    figsize=(5.25, 9),\n",
    "    label=labels,\n",
    ")\n",
    "ax.set_ylabel('Pressure (dbar)')\n",
    "ax.grid(True)\n",
    "ax.legend()\n",
    "ax.set_title('Salinities');"
   ]
  },
  {
   "cell_type": "markdown",
   "metadata": {},
   "source": [
    "Last but not least let's tweak a three line plot with the main variables measured."
   ]
  },
  {
   "cell_type": "code",
   "execution_count": 13,
   "metadata": {},
   "outputs": [],
   "source": [
    "def make_patch_spines_invisible(ax):\n",
    "    ax.set_frame_on(True)\n",
    "    ax.patch.set_visible(False)\n",
    "    for sp in ax.spines.values():\n",
    "        sp.set_visible(False)"
   ]
  },
  {
   "cell_type": "code",
   "execution_count": 14,
   "metadata": {},
   "outputs": [
    {
     "data": {
      "image/png": "[encoded data removed]",
      "text/plain": [
       "<Figure size 360x648 with 3 Axes>"
      ]
     },
     "metadata": {},
     "output_type": "display_data"
    }
   ],
   "source": [
    "fig, ax0 = plt.subplots(figsize=(5, 9))\n",
    "\n",
    "colors = ['#1f77b4', '#ff7f0e', '#2ca02c']\n",
    "\n",
    "ax0.invert_yaxis()\n",
    "ax1 = ax0.twiny()\n",
    "ax2 = ax0.twiny()\n",
    "\n",
    "l0, = ax0.plot(proc['CT'], proc.index, color=colors[0], label='CT')\n",
    "ax0.set_xlabel('Conservative Temperature (°C)')\n",
    "\n",
    "l1, = ax1.plot(proc['SA'], proc.index, color=colors[1], label='SA')\n",
    "ax1.set_xlabel('Absolute Salinity (g kg$^{-1}$)')\n",
    "\n",
    "l2, = ax2.plot(proc['sigma0_CT'], proc.index, color=colors[2], label=r'$\\sigma_{0\\_CT}$')\n",
    "ax2.set_xlabel(r'$\\sigma_{0\\_CT}$ (kg m$^{-3}$)')\n",
    "\n",
    "make_patch_spines_invisible(ax2)\n",
    "ax2.spines['top'].set_position(('axes', 1.1))\n",
    "ax2.spines['top'].set_visible(True)\n",
    "\n",
    "ax0.xaxis.label.set_color(l0.get_color())\n",
    "ax1.xaxis.label.set_color(l1.get_color())\n",
    "ax2.xaxis.label.set_color(l2.get_color())\n",
    "\n",
    "ax0.tick_params(axis='x', colors=l0.get_color())\n",
    "ax1.tick_params(axis='x', colors=l1.get_color())\n",
    "ax2.tick_params(axis='x', colors=l2.get_color())\n",
    "\n",
    "lines = ax0.get_lines() + ax1.get_lines() + ax2.get_lines()\n",
    "leg = {\n",
    "    line: line.get_label() for line in lines\n",
    "}\n",
    "\n",
    "ax0.legend(leg.keys(), leg.values(), loc=8)\n",
    "\n",
    "ax0.grid(False)\n",
    "ax1.grid(False)\n",
    "ax2.grid(False)"
   ]
  },
  {
   "cell_type": "code",
   "execution_count": null,
   "metadata": {},
   "outputs": [],
   "source": []
  }
 ],
 "metadata": {
  "kernelspec": {
   "display_name": "Python 3",
   "language": "python",
   "name": "python3"
  },
  "language_info": {
   "codemirror_mode": {
    "name": "ipython",
    "version": 3
   },
   "file_extension": ".py",
   "mimetype": "text/x-python",
   "name": "python",
   "nbconvert_exporter": "python",
   "pygments_lexer": "ipython3",
   "version": "3.7.3"
  }
 },
 "nbformat": 4,
 "nbformat_minor": 2
}
