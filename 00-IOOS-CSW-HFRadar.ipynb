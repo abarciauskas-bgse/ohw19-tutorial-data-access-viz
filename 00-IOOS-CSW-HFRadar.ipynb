{
 "cells": [
  {
   "cell_type": "code",
   "execution_count": 1,
   "metadata": {
    "slideshow": {
     "slide_type": "skip"
    }
   },
   "outputs": [],
   "source": [
    "%matplotlib inline"
   ]
  },
  {
   "cell_type": "markdown",
   "metadata": {
    "slideshow": {
     "slide_type": "slide"
    }
   },
   "source": [
    "# Fetching data from the IOOS CSW catalog\n",
    "\n",
    "This notebook shows a typical workflow to query a [Catalog Service for the Web (CSW)](https://en.wikipedia.org/wiki/Catalog_Service_for_the_Web) and create a request for data endpoints that are suitable for download.\n",
    "\n",
    "The first step is to create the data filter based on the **geographical** region bounding box, the **time** span, and the CF **variable** standard name."
   ]
  },
  {
   "cell_type": "markdown",
   "metadata": {
    "slideshow": {
     "slide_type": "slide"
    }
   },
   "source": [
    "### Region: west coast"
   ]
  },
  {
   "cell_type": "code",
   "execution_count": 2,
   "metadata": {
    "slideshow": {
     "slide_type": "-"
    }
   },
   "outputs": [],
   "source": [
    "min_lon, max_lon = -123, -121\n",
    "min_lat, max_lat = 36, 40\n",
    "\n",
    "bbox = [min_lon, min_lat, max_lon, max_lat]\n",
    "crs = \"urn:ogc:def:crs:OGC:1.3:CRS84\""
   ]
  },
  {
   "cell_type": "markdown",
   "metadata": {
    "slideshow": {
     "slide_type": "slide"
    }
   },
   "source": [
    "### Temporal range: past week"
   ]
  },
  {
   "cell_type": "code",
   "execution_count": 3,
   "metadata": {
    "slideshow": {
     "slide_type": "-"
    }
   },
   "outputs": [],
   "source": [
    "from datetime import datetime, timedelta\n",
    "\n",
    "now = datetime.utcnow()\n",
    "start, stop = now - timedelta(days=(14)), now - timedelta(days=(7))"
   ]
  },
  {
   "cell_type": "markdown",
   "metadata": {
    "slideshow": {
     "slide_type": "slide"
    }
   },
   "source": [
    "### Surface velocity CF names"
   ]
  },
  {
   "cell_type": "code",
   "execution_count": 4,
   "metadata": {
    "slideshow": {
     "slide_type": "-"
    }
   },
   "outputs": [],
   "source": [
    "cf_names = [\n",
    "    \"surface_northward_sea_water_velocity\",\n",
    "    \"surface_eastward_sea_water_velocity\",\n",
    "]"
   ]
  },
  {
   "cell_type": "code",
   "execution_count": 5,
   "metadata": {
    "slideshow": {
     "slide_type": "slide"
    }
   },
   "outputs": [
    {
     "name": "stdout",
     "output_type": "stream",
     "text": [
      "\n",
      "*standard_names*: ['surface_northward_sea_water_velocity', 'surface_eastward_sea_water_velocity']\n",
      "*start and stop dates*: 2019-08-12 23:07:48.423895 to 2019-08-19 23:07:48.423895\n",
      "*bounding box*:[-123, 36, -121, 40]\n",
      "*crs*: urn:ogc:def:crs:OGC:1.3:CRS84\n"
     ]
    }
   ],
   "source": [
    "print(f\"\"\"\n",
    "*standard_names*: {cf_names}\n",
    "*start and stop dates*: {start} to {stop}\n",
    "*bounding box*:{bbox}\n",
    "*crs*: {crs}\"\"\")"
   ]
  },
  {
   "cell_type": "markdown",
   "metadata": {
    "slideshow": {
     "slide_type": "slide"
    }
   },
   "source": [
    "Now it is possible to assemble a [OGC Filter Encoding (FE)](http://www.opengeospatial.org/standards/filter) for the search using `owslib.fes`\\*. Note that the final result is only a list with all the filtering conditions.\n",
    "\n",
    "\\* OWSLib is a Python package for client programming with Open Geospatial Consortium (OGC) web service (hence OWS) interface standards, and their related content models."
   ]
  },
  {
   "cell_type": "code",
   "execution_count": 6,
   "metadata": {
    "slideshow": {
     "slide_type": "slide"
    }
   },
   "outputs": [],
   "source": [
    "from owslib import fes\n",
    "\n",
    "def fes_date_filter(start, stop, constraint=\"overlaps\"):\n",
    "    start = start.strftime(\"%Y-%m-%d %H:00\")\n",
    "    stop = stop.strftime(\"%Y-%m-%d %H:00\")\n",
    "    if constraint == \"overlaps\":\n",
    "        propertyname = \"apiso:TempExtent_begin\"\n",
    "        begin = fes.PropertyIsLessThanOrEqualTo(\n",
    "            propertyname=propertyname, literal=stop)\n",
    "        propertyname = \"apiso:TempExtent_end\"\n",
    "        end = fes.PropertyIsGreaterThanOrEqualTo(\n",
    "            propertyname=propertyname, literal=start)\n",
    "    elif constraint == \"within\":\n",
    "        propertyname = \"apiso:TempExtent_begin\"\n",
    "        begin = fes.PropertyIsGreaterThanOrEqualTo(\n",
    "            propertyname=propertyname, literal=start)\n",
    "        propertyname = \"apiso:TempExtent_end\"\n",
    "        end = fes.PropertyIsLessThanOrEqualTo(\n",
    "            propertyname=propertyname, literal=stop)\n",
    "    else:\n",
    "        raise NameError(f\"Unrecognized constraint {constraint}\")\n",
    "    return begin, end"
   ]
  },
  {
   "cell_type": "markdown",
   "metadata": {
    "slideshow": {
     "slide_type": "slide"
    }
   },
   "source": [
    "### Create the filter"
   ]
  },
  {
   "cell_type": "code",
   "execution_count": 7,
   "metadata": {
    "slideshow": {
     "slide_type": "-"
    }
   },
   "outputs": [],
   "source": [
    "kw = dict(wildCard='*', escapeChar='\\\\',\n",
    "          singleChar='?', propertyname='apiso:AnyText')\n",
    "\n",
    "or_filt = fes.Or([fes.PropertyIsLike(literal=('*%s*' % val), **kw)\n",
    "                  for val in cf_names])\n",
    "\n",
    "# Exclude GNOME returns.\n",
    "not_filt = fes.Not([fes.PropertyIsLike(literal='*GNOME*', **kw)])\n",
    "\n",
    "begin, end = fes_date_filter(start, stop)\n",
    "bbox_crs = fes.BBox(bbox, crs=crs)\n",
    "filter_list = [fes.And([bbox_crs, begin, end, or_filt, not_filt])]"
   ]
  },
  {
   "cell_type": "code",
   "execution_count": 8,
   "metadata": {
    "slideshow": {
     "slide_type": "slide"
    }
   },
   "outputs": [],
   "source": [
    "def get_csw_records(csw, filter_list, pagesize=10,\n",
    "                    maxrecords=1000):\n",
    "    \"\"\"Iterate maxrecords/pagesize times until the requested\n",
    "    value in maxrecords is reached.\"\"\"\n",
    "    from owslib.fes import SortBy, SortProperty\n",
    "    sortby = SortBy([SortProperty(\"dc:title\", \"ASC\")])\n",
    "    csw_records = {}\n",
    "    startposition = 0\n",
    "    nextrecord = getattr(csw, \"results\", 1)\n",
    "    while nextrecord != 0:\n",
    "        csw.getrecords2(constraints=filter_list, startposition=startposition,\n",
    "                        maxrecords=pagesize, sortby=sortby)\n",
    "        csw_records.update(csw.records)\n",
    "        if csw.results[\"nextrecord\"] == 0:\n",
    "            break\n",
    "        startposition += pagesize + 1  # Last one is included.\n",
    "        if startposition >= maxrecords:\n",
    "            break\n",
    "    csw.records.update(csw_records)"
   ]
  },
  {
   "cell_type": "code",
   "execution_count": 9,
   "metadata": {
    "slideshow": {
     "slide_type": "slide"
    }
   },
   "outputs": [],
   "source": [
    "from owslib.csw import CatalogueServiceWeb\n",
    "\n",
    "\n",
    "endpoint = \"https://data.ioos.us/csw\"\n",
    "\n",
    "csw = CatalogueServiceWeb(endpoint, timeout=60)\n",
    "get_csw_records(csw, filter_list, pagesize=10, maxrecords=1000)\n",
    "\n",
    "records = \"\\n\".join(csw.records.keys())"
   ]
  },
  {
   "cell_type": "code",
   "execution_count": 10,
   "metadata": {
    "slideshow": {
     "slide_type": "slide"
    }
   },
   "outputs": [
    {
     "name": "stdout",
     "output_type": "stream",
     "text": [
      "Found 5 records.\n",
      "\n",
      "[Near-Real Time Surface Ocean Velocity, U.S. West Coast,\n",
      "1 km Resolution]: HFR/USWC/1km/hourly/RTV/HFRADAR_US_West_Coast_1km_Resolution_Hourly_RTV_best.ncd\n",
      "[Near-Real Time Surface Ocean Velocity, U.S. West Coast,\n",
      "2 km Resolution]: HFR/USWC/2km/hourly/RTV/HFRADAR_US_West_Coast_2km_Resolution_Hourly_RTV_best.ncd\n",
      "[Near-Real Time Surface Ocean Velocity, U.S. West Coast,\n",
      "500 m Resolution]: HFR/USWC/500m/hourly/RTV/HFRADAR_US_West_Coast_500m_Resolution_Hourly_RTV_best.ncd\n",
      "[Near-Real Time Surface Ocean Velocity, U.S. West Coast,\n",
      "6 km Resolution]: HFR/USWC/6km/hourly/RTV/HFRADAR_US_West_Coast_6km_Resolution_Hourly_RTV_best.ncd\n",
      "[UCSC California Current System ROMS Nowcast 10km]: UCSC\n"
     ]
    }
   ],
   "source": [
    "print(f\"Found {len(csw.records.keys())} records.\\n\")\n",
    "for key, value in list(csw.records.items()):\n",
    "    print(f\"[{value.title}]: {key}\")"
   ]
  },
  {
   "cell_type": "markdown",
   "metadata": {
    "slideshow": {
     "slide_type": "slide"
    }
   },
   "source": [
    "Let us check the 6 km resolution metadata record we found above."
   ]
  },
  {
   "cell_type": "code",
   "execution_count": 11,
   "metadata": {
    "slideshow": {
     "slide_type": "-"
    }
   },
   "outputs": [
    {
     "name": "stdout",
     "output_type": "stream",
     "text": [
      "Surface ocean velocities estimated from HF-Radar are\n",
      "representative of the upper 0.3 - 2.5 meters of the\n",
      "ocean.  The main objective of near-real time\n",
      "processing is to produce the best product from\n",
      "available data at the time of processing.  Radial\n",
      "velocity measurements are obtained from individual\n",
      "radar sites through the U.S. HF-Radar Network.\n",
      "Hourly radial data are processed by unweighted\n",
      "least-squares on a 6 km resolution grid of the U.S.\n",
      "West Coast to produce near real-time surface current\n",
      "maps.\n"
     ]
    }
   ],
   "source": [
    "value = csw.records[\n",
    "    \"HFR/USWC/6km/hourly/RTV/\"\n",
    "    \"HFRADAR_US_West_Coast_6km_Resolution_Hourly_RTV_best.ncd\"\n",
    "]\n",
    "\n",
    "print(value.abstract)"
   ]
  },
  {
   "cell_type": "code",
   "execution_count": 12,
   "metadata": {
    "slideshow": {
     "slide_type": "slide"
    }
   },
   "outputs": [
    {
     "data": {
      "text/plain": [
       "['abstract',\n",
       " 'bbox',\n",
       " 'identifier',\n",
       " 'identifiers',\n",
       " 'modified',\n",
       " 'references',\n",
       " 'subjects',\n",
       " 'title',\n",
       " 'type',\n",
       " 'xml']"
      ]
     },
     "execution_count": 12,
     "metadata": {},
     "output_type": "execute_result"
    }
   ],
   "source": [
    "attrs = [attr for attr in dir(value) if not attr.startswith(\"_\")]\n",
    "nonzero = [attr for attr in attrs if getattr(value, attr)]\n",
    "nonzero"
   ]
  },
  {
   "cell_type": "markdown",
   "metadata": {
    "slideshow": {
     "slide_type": "slide"
    }
   },
   "source": [
    "### What is in there?"
   ]
  },
  {
   "cell_type": "code",
   "execution_count": 13,
   "metadata": {
    "scrolled": false,
    "slideshow": {
     "slide_type": "-"
    }
   },
   "outputs": [
    {
     "data": {
      "text/plain": [
       "['SIO/UCSD',\n",
       " 'surface_eastward_sea_water_velocity',\n",
       " 'surface_northward_sea_water_velocity',\n",
       " 'latitude',\n",
       " 'longitude',\n",
       " 'forecast_period',\n",
       " 'latitude',\n",
       " 'longitude',\n",
       " 'time',\n",
       " 'forecast_reference_time',\n",
       " 'climatologyMeteorologyAtmosphere']"
      ]
     },
     "execution_count": 13,
     "metadata": {},
     "output_type": "execute_result"
    }
   ],
   "source": [
    "value.subjects"
   ]
  },
  {
   "cell_type": "markdown",
   "metadata": {
    "slideshow": {
     "slide_type": "slide"
    }
   },
   "source": [
    "### Is it up-to-date?"
   ]
  },
  {
   "cell_type": "code",
   "execution_count": 14,
   "metadata": {
    "slideshow": {
     "slide_type": "-"
    }
   },
   "outputs": [
    {
     "data": {
      "text/plain": [
       "'2019-08-26'"
      ]
     },
     "execution_count": 14,
     "metadata": {},
     "output_type": "execute_result"
    }
   ],
   "source": [
    "value.modified"
   ]
  },
  {
   "cell_type": "markdown",
   "metadata": {
    "slideshow": {
     "slide_type": "slide"
    }
   },
   "source": [
    "### The actual bounding box of the data"
   ]
  },
  {
   "cell_type": "code",
   "execution_count": 15,
   "metadata": {
    "slideshow": {
     "slide_type": "-"
    }
   },
   "outputs": [
    {
     "data": {
      "text/plain": [
       "('-130.36', '30.25', '-115.81', '49.99')"
      ]
     },
     "execution_count": 15,
     "metadata": {},
     "output_type": "execute_result"
    }
   ],
   "source": [
    "bbox = (\n",
    "    value.bbox.minx, value.bbox.miny,\n",
    "    value.bbox.maxx, value.bbox.maxy\n",
    ")\n",
    "bbox"
   ]
  },
  {
   "cell_type": "markdown",
   "metadata": {
    "slideshow": {
     "slide_type": "slide"
    }
   },
   "source": [
    "### Now we can \"sniff\" the URLs with *geolinks*"
   ]
  },
  {
   "cell_type": "code",
   "execution_count": 16,
   "metadata": {
    "scrolled": true,
    "slideshow": {
     "slide_type": "-"
    }
   },
   "outputs": [
    {
     "name": "stdout",
     "output_type": "stream",
     "text": [
      "geolink: WWW:LINK\n",
      "scheme: WWW:LINK\n",
      "URL: http://hfrnet-tds.ucsd.edu/thredds/dodsC/HFR/USWC/6km/hourly/RTV/HFRADAR_US_West_Coast_6km_Resolution_Hourly_RTV_best.ncd.html\n",
      "\n",
      "geolink: None\n",
      "scheme: WWW:LINK\n",
      "URL: http://www.ncdc.noaa.gov/oa/wct/wct-jnlp-beta.php?singlefile=http://hfrnet-tds.ucsd.edu/thredds/dodsC/HFR/USWC/6km/hourly/RTV/HFRADAR_US_West_Coast_6km_Resolution_Hourly_RTV_best.ncd\n",
      "\n",
      "geolink: None\n",
      "scheme: OPeNDAP:OPeNDAP\n",
      "URL: http://hfrnet-tds.ucsd.edu/thredds/dodsC/HFR/USWC/6km/hourly/RTV/HFRADAR_US_West_Coast_6km_Resolution_Hourly_RTV_best.ncd\n",
      "\n",
      "geolink: OGC:WCS\n",
      "scheme: OGC:WCS\n",
      "URL: http://hfrnet-tds.ucsd.edu/thredds/wcs/HFR/USWC/6km/hourly/RTV/HFRADAR_US_West_Coast_6km_Resolution_Hourly_RTV_best.ncd?service=WCS&version=1.0.0&request=GetCapabilities\n",
      "\n",
      "geolink: OGC:WMS\n",
      "scheme: OGC:WMS\n",
      "URL: http://hfrnet-tds.ucsd.edu/thredds/wms/HFR/USWC/6km/hourly/RTV/HFRADAR_US_West_Coast_6km_Resolution_Hourly_RTV_best.ncd?service=WMS&version=1.3.0&request=GetCapabilities\n",
      "\n",
      "geolink: UNIDATA:NCSS\n",
      "scheme: UNIDATA:NCSS\n",
      "URL: http://hfrnet-tds.ucsd.edu/thredds/ncss/grid/HFR/USWC/6km/hourly/RTV/HFRADAR_US_West_Coast_6km_Resolution_Hourly_RTV_best.ncd/dataset.html\n",
      "\n"
     ]
    }
   ],
   "source": [
    "from geolinks import sniff_link\n",
    "\n",
    "for ref in value.references:\n",
    "    if ref[\"scheme\"] == \"OPeNDAP:OPeNDAP\":\n",
    "        url = ref[\"url\"]  # save the opendap for later\n",
    "    geolink = sniff_link(ref[\"url\"])\n",
    "    msg = (f\"geolink: {geolink}\\nscheme: {ref['scheme']}\\n\"\n",
    "           f\"URL: {ref['url']}\\n\")\n",
    "    print(msg)"
   ]
  },
  {
   "cell_type": "markdown",
   "metadata": {
    "slideshow": {
     "slide_type": "slide"
    }
   },
   "source": [
    "For a detailed description of what those `geolink` results mean check the [lookup](https://github.com/OSGeo/Cat-Interop/blob/master/LinkPropertyLookupTable.csv) table.\n",
    "There are Web Coverage Service (WCS), Web Map Service (WMS),\n",
    "direct links, and OPeNDAP services available.\n",
    "\n",
    "We can use any of those to obtain the data but the easiest one to explore interactively is the open OPeNDAP endpoint."
   ]
  },
  {
   "cell_type": "code",
   "execution_count": 17,
   "metadata": {
    "scrolled": true,
    "slideshow": {
     "slide_type": "slide"
    }
   },
   "outputs": [
    {
     "data": {
      "text/plain": [
       "<xarray.Dataset>\n",
       "Dimensions:       (lat: 367, lon: 234, nProcParam: 7, nSites: 56, time: 69228)\n",
       "Coordinates:\n",
       "  * lat           (lat) float32 30.25 30.30394 30.35788 ... 49.9381 49.99204\n",
       "  * lon           (lon) float32 -130.36 -130.29753 ... -115.86803 -115.805565\n",
       "  * time          (time) datetime64[ns] 2011-10-01 ... 2019-08-26T21:00:00\n",
       "    time_run      (time) datetime64[ns] ...\n",
       "Dimensions without coordinates: nProcParam, nSites\n",
       "Data variables:\n",
       "    site_lat      (nSites) float32 ...\n",
       "    site_lon      (nSites) float32 ...\n",
       "    site_code     (nSites) |S64 ...\n",
       "    site_netCode  (nSites) |S64 ...\n",
       "    procParams    (nProcParam) float32 ...\n",
       "    time_offset   (time) datetime64[ns] ...\n",
       "    u             (time, lat, lon) float32 ...\n",
       "    v             (time, lat, lon) float32 ...\n",
       "    DOPx          (time, lat, lon) float32 ...\n",
       "    DOPy          (time, lat, lon) float32 ...\n",
       "Attributes:\n",
       "    netcdf_library_version:  4.1.3\n",
       "    format_version:          HFRNet_1.0.0\n",
       "    product_version:         HFRNet_1.1.05\n",
       "    Conventions:             CF-1.4\n",
       "    title:                   Near-Real Time Surface Ocean Velocity, U.S. West...\n",
       "    institution:             Scripps Institution of Oceanography\n",
       "    source:                  Surface Ocean HF-Radar\n",
       "    history:                 26-Aug-2019 08:35:32: NetCDF file created\\n26-Au...\n",
       "    references:              Terrill, E. et al., 2006. Data Management and Re...\n",
       "    creator_name:            Mark Otero\n",
       "    creator_email:           motero@ucsd.edu\n",
       "    creator_url:             http://cordc.ucsd.edu/projects/mapping/\n",
       "    summary:                 Surface ocean velocities estimated from HF-Radar...\n",
       "    geospatial_lat_min:      30.25\n",
       "    geospatial_lat_max:      49.99204\n",
       "    geospatial_lon_min:      -130.36\n",
       "    geospatial_lon_max:      -115.805565\n",
       "    grid_resolution:         6km\n",
       "    grid_projection:         equidistant cylindrical\n",
       "    regional_description:    Unites States, West Coast\n",
       "    _CoordSysBuilder:        ucar.nc2.dataset.conv.CF1Convention\n",
       "    cdm_data_type:           GRID\n",
       "    featureType:             GRID\n",
       "    location:                Proto fmrc:HFRADAR_US_West_Coast_6km_Resolution_...\n",
       "    DODS.strlen:             25\n",
       "    DODS.dimName:            nSites_maxStrlen"
      ]
     },
     "execution_count": 17,
     "metadata": {},
     "output_type": "execute_result"
    }
   ],
   "source": [
    "import xarray as xr\n",
    "\n",
    "ds = xr.open_dataset(url)\n",
    "ds"
   ]
  },
  {
   "cell_type": "markdown",
   "metadata": {
    "slideshow": {
     "slide_type": "slide"
    }
   },
   "source": [
    "### Select \"yesterday\" data"
   ]
  },
  {
   "cell_type": "code",
   "execution_count": 18,
   "metadata": {
    "scrolled": true,
    "slideshow": {
     "slide_type": "-"
    }
   },
   "outputs": [],
   "source": [
    "from datetime import date, timedelta\n",
    "\n",
    "\n",
    "yesterday = date.today() - timedelta(days=1)\n",
    "ds = ds.sel(time=yesterday)"
   ]
  },
  {
   "cell_type": "markdown",
   "metadata": {
    "slideshow": {
     "slide_type": "slide"
    }
   },
   "source": [
    "### Compute the speed while masking invalid values"
   ]
  },
  {
   "cell_type": "code",
   "execution_count": 19,
   "metadata": {
    "slideshow": {
     "slide_type": "-"
    }
   },
   "outputs": [],
   "source": [
    "import numpy.ma as ma\n",
    "\n",
    "\n",
    "u = ds[\"u\"].data\n",
    "v = ds[\"v\"].data\n",
    "\n",
    "lon = ds.coords[\"lon\"].data\n",
    "lat = ds.coords[\"lat\"].data\n",
    "time = ds.coords[\"time\"].data\n",
    "\n",
    "u = ma.masked_invalid(u)\n",
    "v = ma.masked_invalid(v)"
   ]
  },
  {
   "cell_type": "markdown",
   "metadata": {
    "slideshow": {
     "slide_type": "slide"
    }
   },
   "source": [
    "This cell is only a trick to show all quiver arrows with the same length,\n",
    "for visualization purposes,\n",
    "and indicate the vector magnitude with colors instead."
   ]
  },
  {
   "cell_type": "code",
   "execution_count": 20,
   "metadata": {
    "slideshow": {
     "slide_type": "fragment"
    }
   },
   "outputs": [],
   "source": [
    "import numpy as np\n",
    "from oceans.ocfis import uv2spdir, spdir2uv\n",
    "\n",
    "\n",
    "angle, speed = uv2spdir(u, v)\n",
    "us, vs = spdir2uv(np.ones_like(speed), angle, deg=True)"
   ]
  },
  {
   "cell_type": "markdown",
   "metadata": {
    "slideshow": {
     "slide_type": "slide"
    }
   },
   "source": [
    "### And now we are ready to create the plot"
   ]
  },
  {
   "cell_type": "code",
   "execution_count": 21,
   "metadata": {
    "slideshow": {
     "slide_type": "-"
    }
   },
   "outputs": [],
   "source": [
    "import cartopy.crs as ccrs\n",
    "import matplotlib.pyplot as plt\n",
    "\n",
    "from cartopy import feature\n",
    "from cartopy.mpl.gridliner import LONGITUDE_FORMATTER, LATITUDE_FORMATTER\n",
    "\n",
    "\n",
    "LAND = feature.NaturalEarthFeature(\n",
    "    \"physical\", \"land\", \"10m\",\n",
    "    edgecolor=\"face\",\n",
    "    facecolor=\"lightgray\",\n",
    ")\n",
    "\n",
    "sub = 2\n",
    "dx = dy = 0.5\n",
    "center = -122.416667, 37.783333  # San Francisco.\n",
    "bbox = lon.min(), lon.max(), lat.min(), lat.max()"
   ]
  },
  {
   "cell_type": "code",
   "execution_count": 22,
   "metadata": {
    "slideshow": {
     "slide_type": "skip"
    }
   },
   "outputs": [],
   "source": [
    "def plot_hfradar():\n",
    "    fig, (ax0, ax1) = plt.subplots(\n",
    "        ncols=2,\n",
    "        figsize=(20, 20),\n",
    "        subplot_kw=dict(projection=ccrs.PlateCarree())\n",
    "    )\n",
    "\n",
    "\n",
    "    ax0.set_extent(bbox)\n",
    "    cs = ax0.pcolormesh(lon, lat, ma.masked_invalid(speed))\n",
    "    gl = ax0.gridlines(draw_labels=True)\n",
    "    gl.xlabels_top = gl.ylabels_right = False\n",
    "    gl.xformatter = LONGITUDE_FORMATTER\n",
    "    gl.yformatter = LATITUDE_FORMATTER\n",
    "\n",
    "    cbar = fig.colorbar(cs, ax=ax0, shrink=0.45, extend=\"both\")\n",
    "    cbar.ax.set_title(r\"speed m s$^{-1}$\", loc=\"left\")\n",
    "\n",
    "    ax0.add_feature(LAND, zorder=0, edgecolor=\"black\")\n",
    "    ax0.set_title(f\"{value.title}\\n{ds['time'].values}\")\n",
    "\n",
    "    ax1.set_extent([center[0]-dx-dx, center[0]+dx, center[1]-dy, center[1]+dy])\n",
    "    q = ax1.quiver(lon[::sub], lat[::sub],\n",
    "                   us[::sub, ::sub], vs[::sub, ::sub],\n",
    "                   speed[::sub, ::sub], scale=30)\n",
    "    ax1.quiverkey(q, 0.5, 0.85, 1, r\"1 m s$^{-1}$\", coordinates=\"axes\")\n",
    "    gl = ax1.gridlines(draw_labels=True)\n",
    "    gl.xlabels_top = gl.ylabels_right = False\n",
    "    gl.xformatter = LONGITUDE_FORMATTER\n",
    "    gl.yformatter = LATITUDE_FORMATTER\n",
    "\n",
    "    ax1.add_feature(LAND, zorder=0, edgecolor=\"black\")\n",
    "    ax1.plot(ds[\"site_lon\"], ds[\"site_lat\"], marker=\"o\", linestyle=\"none\", color=\"darkorange\")\n",
    "    ax1.set_title(\"San Francisco Bay area\");"
   ]
  },
  {
   "cell_type": "code",
   "execution_count": 23,
   "metadata": {
    "slideshow": {
     "slide_type": "slide"
    }
   },
   "outputs": [
    {
     "data": {
      "image/png": "[encoded data removed]",
      "text/plain": [
       "<Figure size 1440x1440 with 3 Axes>"
      ]
     },
     "metadata": {
      "needs_background": "light"
     },
     "output_type": "display_data"
    }
   ],
   "source": [
    "plot_hfradar();"
   ]
  },
  {
   "cell_type": "markdown",
   "metadata": {
    "slideshow": {
     "slide_type": "slide"
    }
   },
   "source": [
    "### Try to create your own filter and enjoy data!\n",
    "\n",
    "```python\n",
    "filter_list = [\n",
    "    fes.And(\n",
    "        [\n",
    "            bbox_crs,\n",
    "            begin, end,\n",
    "            or_filt, not_filt,\n",
    "        ]\n",
    "    )\n",
    "]\n",
    "```"
   ]
  }
 ],
 "metadata": {
  "_draft": {
   "nbviewer_url": "https://gist.github.com/e2ebe5b43f81f728d8f4b5089c8e798a"
  },
  "celltoolbar": "Slideshow",
  "gist": {
   "data": {
    "description": "2017-05-04-finding_HFRadar_currents.ipynb",
    "public": true
   },
   "id": "e2ebe5b43f81f728d8f4b5089c8e798a"
  },
  "kernelspec": {
   "display_name": "Python 3",
   "language": "python",
   "name": "python3"
  },
  "language_info": {
   "codemirror_mode": {
    "name": "ipython",
    "version": 3
   },
   "file_extension": ".py",
   "mimetype": "text/x-python",
   "name": "python",
   "nbconvert_exporter": "python",
   "pygments_lexer": "ipython3",
   "version": "3.7.3"
  },
  "livereveal": {
   "auto_select": "none",
   "autolaunch": "false",
   "footer": " ",
   "header": "<script src='static/theme/reveal.js'></script>",
   "start_slideshow_at": "selected"
  }
 },
 "nbformat": 4,
 "nbformat_minor": 1
}
