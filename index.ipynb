{
 "cells": [
  {
   "cell_type": "markdown",
   "metadata": {},
   "source": [
    "# Basic Visualization and Data Access\n",
    "\n",
    "## Basic Visualization\n",
    "\n",
    "- [Introduction to matplotlib](basic-visualization/00-mpl-basics.ipynb)\n",
    "- [Mapping](basic-visualization/01-basemap_cartopy.ipynb)\n",
    "\n",
    "## Data Access\n",
    "\n",
    "- [CCHDO Part 01](CTD_cast_good.ipynb)\n",
    "- [CCHDO Part 02](CTD_cast_trouble.ipynb)\n",
    "- [OOI Profiler Data from Cloud storage](03-OOI-Xarray.ipynb)\n",
    "- [OOI ERDDAP - Glider](02-OOI-ERDDAP.ipynb)\n",
    "- [IOOS CSW - HFRadar](00-IOOS-CSW-HFRadar.ipynb)\n",
    "- [IOOS PYOOS - NHC](01-IOOS-PYOOS-NHC.ipynb)\n",
    "- [IFREMER ERDDAP - Argo](04.1-AUVs-Argo_ERDDAP.ipynb)\n",
    "- [IOOS Glider DAC - IOOS & OOI Gliders](04.2-AUVs-GliderDAC_ERDDAP.ipynb)\n",
    "- [Gridded Data - NASA PO.DAAC](05.1-GriddedData-NASA_PODAAC_SST.ipynb)\n",
    "- [Gridded Data - NOAA CoastWatch ERDDAP](05.2-GriddedData-NOAACWERDDAP-ChlorophyllTimeSeries.ipynb)\n",
    "\n",
    "## Extras\n",
    "\n",
    "- [IOOS ERDDAP - CO-OPS NOS](Extras-IOOS-CO-OPS.NOS.ipynb)\n",
    "- [Acoustics](Extras-Acoustics.ipynb)\n",
    "- [PMEL ERDDAP - Saildrone](Extras-ERDDAP_Saildrone.ipynb)\n",
    "- [Storm Dorian](Extras-Storm-Dorian.ipynb)"
   ]
  }
 ],
 "metadata": {
  "kernelspec": {
   "display_name": "Python 3",
   "language": "python",
   "name": "python3"
  },
  "language_info": {
   "codemirror_mode": {
    "name": "ipython",
    "version": 3
   },
   "file_extension": ".py",
   "mimetype": "text/x-python",
   "name": "python",
   "nbconvert_exporter": "python",
   "pygments_lexer": "ipython3",
   "version": "3.7.3"
  }
 },
 "nbformat": 4,
 "nbformat_minor": 4
}
