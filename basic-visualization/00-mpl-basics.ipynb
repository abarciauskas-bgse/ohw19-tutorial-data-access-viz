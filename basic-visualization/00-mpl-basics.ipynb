{
 "cells": [
  {
   "cell_type": "markdown",
   "metadata": {
    "slideshow": {
     "slide_type": "slide"
    }
   },
   "source": [
    "### Learning Objectives\n",
    "\n",
    "- Matplotlib basics syntax;\n",
    "- Customizing a figure;\n",
    "- Understanding the `figure`, `axes` and how to create `subplots`;\n",
    "- Plotting using matplotlib wrappers (pandas, xarray, etc)."
   ]
  },
  {
   "cell_type": "markdown",
   "metadata": {
    "slideshow": {
     "slide_type": "slide"
    }
   },
   "source": [
    "![](https://holoviz.org/assets/landscape_hv_nx.png)"
   ]
  },
  {
   "cell_type": "markdown",
   "metadata": {
    "slideshow": {
     "slide_type": "slide"
    }
   },
   "source": [
    "### Basic matplotlib"
   ]
  },
  {
   "cell_type": "markdown",
   "metadata": {
    "slideshow": {
     "slide_type": "fragment"
    }
   },
   "source": [
    "![](data/mpl_anatomy.png)"
   ]
  },
  {
   "cell_type": "code",
   "execution_count": null,
   "metadata": {
    "slideshow": {
     "slide_type": "slide"
    }
   },
   "outputs": [],
   "source": [
    "# Try qt5 or notebook later.\n",
    "# You'll have to restart the kernel first!\n",
    "%matplotlib inline\n",
    "\n",
    "import matplotlib.pyplot as plt"
   ]
  },
  {
   "cell_type": "code",
   "execution_count": null,
   "metadata": {
    "slideshow": {
     "slide_type": "fragment"
    }
   },
   "outputs": [],
   "source": [
    "import matplotlib\n",
    "\n",
    "\n",
    "matplotlib.get_backend()"
   ]
  },
  {
   "cell_type": "code",
   "execution_count": null,
   "metadata": {
    "slideshow": {
     "slide_type": "slide"
    }
   },
   "outputs": [],
   "source": [
    "fig = plt.figure()"
   ]
  },
  {
   "cell_type": "code",
   "execution_count": null,
   "metadata": {
    "slideshow": {
     "slide_type": "fragment"
    }
   },
   "outputs": [],
   "source": [
    "ax = plt.axes()"
   ]
  },
  {
   "cell_type": "code",
   "execution_count": null,
   "metadata": {
    "slideshow": {
     "slide_type": "slide"
    }
   },
   "outputs": [],
   "source": [
    "fig, ax = plt.subplots()"
   ]
  },
  {
   "cell_type": "code",
   "execution_count": null,
   "metadata": {
    "slideshow": {
     "slide_type": "slide"
    }
   },
   "outputs": [],
   "source": [
    "fig, ax = plt.subplots(\n",
    "    figsize=(8, 4),\n",
    "    ncols=2,\n",
    ")"
   ]
  },
  {
   "cell_type": "code",
   "execution_count": null,
   "metadata": {
    "slideshow": {
     "slide_type": "slide"
    }
   },
   "outputs": [],
   "source": [
    "import pandas as pd\n",
    "\n",
    "\n",
    "url = (\"https://raw.githubusercontent.com/ocefpaf/\"\n",
    "       \"2018-Jun-SWC-Floripa/master/data\")\n",
    "\n",
    "fname = \"dados_pirata.csv\"\n",
    "df = pd.read_csv(\n",
    "    f\"{url}/{fname}\",\n",
    "    index_col='datahora',\n",
    "    parse_dates=True,\n",
    "    na_values=-99999,\n",
    ")"
   ]
  },
  {
   "cell_type": "code",
   "execution_count": null,
   "metadata": {
    "scrolled": false,
    "slideshow": {
     "slide_type": "slide"
    }
   },
   "outputs": [],
   "source": [
    "df.drop('Unnamed: 0', axis=1, inplace=True)\n",
    "df.columns = ['{0:0>3}'.format(col.split('_')[1]) for\n",
    "              col in df.columns]\n",
    "\n",
    "df.sort_index(axis=1, inplace=True)\n",
    "df.head(10)"
   ]
  },
  {
   "cell_type": "code",
   "execution_count": null,
   "metadata": {
    "slideshow": {
     "slide_type": "slide"
    }
   },
   "outputs": [],
   "source": [
    "fig, ax = plt.subplots()\n",
    "\n",
    "z = df.columns.astype(float)\n",
    "\n",
    "ax.plot(df.iloc[0, :], -z, \"-o\");"
   ]
  },
  {
   "cell_type": "markdown",
   "metadata": {
    "slideshow": {
     "slide_type": "slide"
    }
   },
   "source": [
    "## What are we plotting? Let's label!"
   ]
  },
  {
   "cell_type": "code",
   "execution_count": null,
   "metadata": {
    "slideshow": {
     "slide_type": "fragment"
    }
   },
   "outputs": [],
   "source": [
    "fig, ax = plt.subplots()\n",
    "\n",
    "ax.plot(df.iloc[0, :], -z, \"-o\")\n",
    "\n",
    "fig.suptitle(\"PIRATAS\")\n",
    "ax.set_title(\"Mooring #42\")\n",
    "ax.set_xlabel(r\"$\\theta$ (℃)\")\n",
    "ax.set_ylabel(\"Depth (m)\");"
   ]
  },
  {
   "cell_type": "markdown",
   "metadata": {
    "slideshow": {
     "slide_type": "slide"
    }
   },
   "source": [
    "### We can customize the `ticks`..."
   ]
  },
  {
   "cell_type": "code",
   "execution_count": null,
   "metadata": {
    "slideshow": {
     "slide_type": "fragment"
    }
   },
   "outputs": [],
   "source": [
    "fig, ax = plt.subplots()\n",
    "\n",
    "ax.plot(df.iloc[0, :], -z, \"-o\")\n",
    "ax.set_yticks([0, -100, -400, -600]);"
   ]
  },
  {
   "cell_type": "markdown",
   "metadata": {
    "slideshow": {
     "slide_type": "slide"
    }
   },
   "source": [
    "###  ... and the `yticklabels()`."
   ]
  },
  {
   "cell_type": "code",
   "execution_count": null,
   "metadata": {
    "slideshow": {
     "slide_type": "fragment"
    }
   },
   "outputs": [],
   "source": [
    "fig, ax = plt.subplots()\n",
    "\n",
    "ax.plot(df.iloc[0, :], z, \"-o\")\n",
    "ax.invert_yaxis()\n",
    "ax.set_yticks([0, 100, 500]);\n",
    "ax.set_yticklabels([\"surface\", \"mixed layer\", \"thermocline\"]);"
   ]
  },
  {
   "cell_type": "markdown",
   "metadata": {
    "slideshow": {
     "slide_type": "slide"
    }
   },
   "source": [
    "Exercise: We used `df.iloc[0, :]` to  plot the first time index versus the all depths.\n",
    "Create for a time series (all time indexes) for a single depth and customize it."
   ]
  },
  {
   "cell_type": "code",
   "execution_count": null,
   "metadata": {
    "slideshow": {
     "slide_type": "slide"
    }
   },
   "outputs": [],
   "source": [
    "%load 00-mpl-basics-00-sol.py"
   ]
  },
  {
   "cell_type": "markdown",
   "metadata": {
    "slideshow": {
     "slide_type": "slide"
    }
   },
   "source": [
    "### Plotting directly from pandas"
   ]
  },
  {
   "cell_type": "code",
   "execution_count": null,
   "metadata": {
    "slideshow": {
     "slide_type": "fragment"
    }
   },
   "outputs": [],
   "source": [
    "ax = df.plot(figsize=(11, 2.75))\n",
    "ax.legend(loc=(1.05, 0))\n",
    "ax.grid(True);"
   ]
  },
  {
   "cell_type": "markdown",
   "metadata": {
    "slideshow": {
     "slide_type": "slide"
    }
   },
   "source": [
    "### This allow for a compact processing/plotting code"
   ]
  },
  {
   "cell_type": "code",
   "execution_count": null,
   "metadata": {
    "slideshow": {
     "slide_type": "fragment"
    }
   },
   "outputs": [],
   "source": [
    "plot = {\"marker\": \".\", \"linestyle\": \"none\", \"figsize\": (11, 3)}\n",
    "interp = {\"method\": \"time\", \"limit\": 10}\n",
    "\n",
    "df[\"001\"].plot(**plot);\n",
    "df[\"001\"].interpolate(**interp).plot(alpha=0.65);"
   ]
  },
  {
   "cell_type": "markdown",
   "metadata": {
    "slideshow": {
     "slide_type": "slide"
    }
   },
   "source": [
    "Exercise: check the `plt.subplots` documentation and create a subplot with two rows and 1 column. Plot different depths in the rows."
   ]
  },
  {
   "cell_type": "code",
   "execution_count": null,
   "metadata": {
    "slideshow": {
     "slide_type": "fragment"
    }
   },
   "outputs": [],
   "source": [
    "%load 00-mpl-basics-01-sol.py"
   ]
  },
  {
   "cell_type": "markdown",
   "metadata": {
    "slideshow": {
     "slide_type": "slide"
    }
   },
   "source": [
    "Exercise: load the file `15t30717.3f1` from the `url` below and plot the `u` and `v` time-series.\n",
    "\n",
    "url = \"https://raw.githubusercontent.com/ocefpaf/2018-Jun-SWC-Floripa/master/data/15t30717.3f1\"\n",
    "\n",
    "Note that this dataset is not labeled! (Welcome to the messy world of bad/absent metadata.)\n",
    "\n",
    "Use `names = [\"j\", \"u\", \"v\", \"temp\", \"sal\", \"y\", \"mn\", \"d\", \"h\", \"mi\"]` in pandas to identify the columns.\n",
    "\n",
    "bonus points: filter the tidal signal using pandas `rolling` method."
   ]
  },
  {
   "cell_type": "code",
   "execution_count": null,
   "metadata": {
    "slideshow": {
     "slide_type": "slide"
    }
   },
   "outputs": [],
   "source": [
    "%load 00-mpl-basics-02-sol.py"
   ]
  },
  {
   "cell_type": "code",
   "execution_count": null,
   "metadata": {
    "slideshow": {
     "slide_type": "slide"
    }
   },
   "outputs": [],
   "source": [
    "%load 00-mpl-basics-03-sol.py"
   ]
  },
  {
   "cell_type": "markdown",
   "metadata": {
    "slideshow": {
     "slide_type": "slide"
    }
   },
   "source": [
    "### Plotting slices and surfaces\n",
    "\n",
    "For more examples see <https://ioos.github.io/notebooks_demos/notebooks/2019-03-08-grids-temperature/>."
   ]
  },
  {
   "cell_type": "code",
   "execution_count": null,
   "metadata": {
    "slideshow": {
     "slide_type": "slide"
    }
   },
   "outputs": [],
   "source": [
    "import xarray as xr\n",
    "\n",
    "\n",
    "url = (\"http://tds.marine.rutgers.edu/thredds/dodsC/\"\n",
    "       \"roms/doppio/2017_da/avg/Averages_Best\")\n",
    "ds = xr.open_dataset(url)"
   ]
  },
  {
   "cell_type": "code",
   "execution_count": null,
   "metadata": {
    "scrolled": true,
    "slideshow": {
     "slide_type": "slide"
    }
   },
   "outputs": [],
   "source": [
    "temp = ds.filter_by_attrs(\n",
    "    standard_name=\"sea_water_potential_temperature\"\n",
    ")\n",
    "temp.info()"
   ]
  },
  {
   "cell_type": "code",
   "execution_count": null,
   "metadata": {
    "slideshow": {
     "slide_type": "slide"
    }
   },
   "outputs": [],
   "source": [
    "surface = temp.isel(time=-1, s_rho=-1).to_array()\n",
    "\n",
    "surface.plot(\n",
    "    x=\"lon_rho\",\n",
    "    y=\"lat_rho\",\n",
    ");"
   ]
  },
  {
   "cell_type": "code",
   "execution_count": null,
   "metadata": {
    "slideshow": {
     "slide_type": "slide"
    }
   },
   "outputs": [],
   "source": [
    "import cartopy.crs as ccrs\n",
    "from palettable.cmocean.sequential import Thermal_20\n",
    "\n",
    "cmap = Thermal_20.mpl_colormap\n",
    "\n",
    "ax = plt.axes(projection=ccrs.PlateCarree())\n",
    "surface.plot(ax=ax,\n",
    "             x=\"lon_rho\",\n",
    "             y=\"lat_rho\",\n",
    "             cmap=cmap)\n",
    "\n",
    "ax.coastlines(resolution=\"10m\");"
   ]
  },
  {
   "cell_type": "markdown",
   "metadata": {
    "slideshow": {
     "slide_type": "slide"
    }
   },
   "source": [
    "Exercise: change the `isel` call we did above,\n",
    "\n",
    "```python\n",
    "temp.isel(time=-1, s_rho=-1).to_array()\n",
    "```\n",
    "\n",
    "and create a time-series plot at a certain point and another slice at any given depth. Was it easy to figure out the point and the depth?\n",
    "\n",
    "Challenge: perform a temperature slice at a given depth (250 m)."
   ]
  },
  {
   "cell_type": "code",
   "execution_count": null,
   "metadata": {
    "slideshow": {
     "slide_type": "slide"
    }
   },
   "outputs": [],
   "source": [
    "%load 00-mpl-basics-04-sol.py"
   ]
  },
  {
   "cell_type": "code",
   "execution_count": null,
   "metadata": {
    "slideshow": {
     "slide_type": "slide"
    }
   },
   "outputs": [],
   "source": [
    "%load 00-mpl-basics-05-sol.py"
   ]
  },
  {
   "cell_type": "code",
   "execution_count": null,
   "metadata": {
    "slideshow": {
     "slide_type": "slide"
    }
   },
   "outputs": [],
   "source": [
    "%load 00-mpl-basics-06-sol.py"
   ]
  },
  {
   "cell_type": "markdown",
   "metadata": {
    "slideshow": {
     "slide_type": "slide"
    }
   },
   "source": [
    "Exercise: choose a model from  https://eds.ioos.us, load with `xarray`, and plot a surface layer slice of any property."
   ]
  },
  {
   "cell_type": "markdown",
   "metadata": {
    "slideshow": {
     "slide_type": "slide"
    }
   },
   "source": [
    "### Vertical sections"
   ]
  },
  {
   "cell_type": "code",
   "execution_count": null,
   "metadata": {
    "scrolled": false,
    "slideshow": {
     "slide_type": "fragment"
    }
   },
   "outputs": [],
   "source": [
    "url = (\"http://eds.ioos.us/eds_thredds/dodsC/\"\n",
    "       \"EDS/HYCOM_3D_R1/hycom_3d_r1_2019082600.nc\")\n",
    "\n",
    "ds = xr.open_dataset(url, decode_times=False)\n",
    "section = ds[\"salinity\"].isel(time=0)\n",
    "section = section.sel(lon=302, method='nearest')"
   ]
  },
  {
   "cell_type": "code",
   "execution_count": null,
   "metadata": {
    "slideshow": {
     "slide_type": "slide"
    }
   },
   "outputs": [],
   "source": [
    "fig, ax = plt.subplots(figsize=(11, 5))\n",
    "cs = section.plot(ax=ax)\n",
    "ax.invert_yaxis()"
   ]
  },
  {
   "cell_type": "markdown",
   "metadata": {
    "slideshow": {
     "slide_type": "slide"
    }
   },
   "source": [
    "If you need more complex sections, like comparing the path of a glider with a model check [this notebook](https://nbviewer.jupyter.org/gist/ocefpaf/b952cb560f4a508b964825b1b53c78da). You'll notice that it does not use `xarray`, the main reason is the lack of support for vertical coordinates. [More on that on here](https://gist.github.com/ocefpaf/18e8fe29005c148fe0e3)."
   ]
  },
  {
   "cell_type": "markdown",
   "metadata": {
    "slideshow": {
     "slide_type": "slide"
    }
   },
   "source": [
    "### Want to know how to perform vertical slices on numerical models?"
   ]
  },
  {
   "cell_type": "markdown",
   "metadata": {
    "slideshow": {
     "slide_type": "slide"
    }
   },
   "source": [
    "### This is only be beginning!\n",
    "\n",
    "There are many tutorials on matplotlib out there. Here are a few resouces:\n",
    "\n",
    "- https://github.com/matplotlib/GettingStarted\n",
    "- https://matplotlib.org/gallery.html\n",
    "- https://github.com/rougier/matplotlib-cheatsheet"
   ]
  },
  {
   "cell_type": "code",
   "execution_count": null,
   "metadata": {
    "slideshow": {
     "slide_type": "slide"
    }
   },
   "outputs": [],
   "source": [
    "import hvplot.pandas\n",
    "\n",
    "\n",
    "df[[\"v\", \"high\", \"low\"]].hvplot()"
   ]
  }
 ],
 "metadata": {
  "celltoolbar": "Slideshow",
  "kernelspec": {
   "display_name": "Python 3",
   "language": "python",
   "name": "python3"
  },
  "language_info": {
   "codemirror_mode": {
    "name": "ipython",
    "version": 3
   },
   "file_extension": ".py",
   "mimetype": "text/x-python",
   "name": "python",
   "nbconvert_exporter": "python",
   "pygments_lexer": "ipython3",
   "version": "3.7.3"
  },
  "latex_envs": {
   "LaTeX_envs_menu_present": true,
   "autoclose": false,
   "autocomplete": true,
   "bibliofile": "biblio.bib",
   "cite_by": "apalike",
   "current_citInitial": 1,
   "eqLabelWithNumbers": true,
   "eqNumInitial": 1,
   "hotkeys": {
    "equation": "Ctrl-E",
    "itemize": "Ctrl-I"
   },
   "labels_anchors": false,
   "latex_user_defs": false,
   "report_style_numbering": false,
   "user_envs_cfg": false
  },
  "livereveal": {
   "auto_select": "none",
   "autolaunch": "false",
   "footer": " ",
   "header": "<script src='static/theme/reveal.js'></script>",
   "start_slideshow_at": "selected"
  },
  "varInspector": {
   "cols": {
    "lenName": 16,
    "lenType": 16,
    "lenVar": 40
   },
   "kernels_config": {
    "python": {
     "delete_cmd_postfix": "",
     "delete_cmd_prefix": "del ",
     "library": "var_list.py",
     "varRefreshCmd": "print(var_dic_list())"
    },
    "r": {
     "delete_cmd_postfix": ") ",
     "delete_cmd_prefix": "rm(",
     "library": "var_list.r",
     "varRefreshCmd": "cat(var_dic_list()) "
    }
   },
   "types_to_exclude": [
    "module",
    "function",
    "builtin_function_or_method",
    "instance",
    "_Feature"
   ],
   "window_display": false
  }
 },
 "nbformat": 4,
 "nbformat_minor": 4
}
