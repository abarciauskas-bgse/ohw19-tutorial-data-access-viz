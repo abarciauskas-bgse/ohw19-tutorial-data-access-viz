{
 "cells": [
  {
   "cell_type": "markdown",
   "metadata": {},
   "source": [
    "# Ocean Observatories Initiative (OOI) Data"
   ]
  },
  {
   "cell_type": "markdown",
   "metadata": {},
   "source": [
    "<img src=\"CEV-OOI-Cabled-Array.jpg\" alt=\"Drawing\" style=\"width: 600px;\"/>"
   ]
  },
  {
   "cell_type": "markdown",
   "metadata": {},
   "source": [
    "## Obtaining OOI Data\n",
    "\n",
    "  - Data Portal\n",
    "  - M2M\n",
    "  - [Raw Data Server](https://rawdata.oceanobservatories.org/files/RS03ASHS/PN03B/06-CAMHDA301/) (CamHD Video Data)\n",
    "  - IRIS (seismic data)\n",
    "  - ERDDAP\n",
    "  - [Xarray and Zarr on AWS S3](https://io2data.s3.us-west-2.amazonaws.com/index.html#data/) (unofficial profiler data demo)\n",
    "  - Others coming soon!"
   ]
  },
  {
   "cell_type": "markdown",
   "metadata": {},
   "source": [
    "## Xarray and Zarr on AWS S3\n",
    "  - Demonstration subset of OOI profiler data  \n",
    "  - Stored as Zarr in a cloud-performant object store  \n",
    "  - Hopefully most or all of OOI data will be stored like this in the near future  \n",
    "  - [OOI Data Team Inspector](https://ooi-visualocean.whoi.edu/regions/view/RS)  \n",
    "  - [AWS Store Browser](https://io2data.s3.us-west-2.amazonaws.com/index.html#data/) (@lsetiawan)\n",
    "  \n",
    "### Learning Objectives\n",
    "\n",
    "  - Open zarr groups from Amazon S3\n",
    "  - Use Dask delayed functions to speed up data access\n",
    "  - Resample data using Xarray\n",
    "  - Plot using hvplot"
   ]
  },
  {
   "cell_type": "markdown",
   "metadata": {},
   "source": [
    "### Loading Data"
   ]
  },
  {
   "cell_type": "markdown",
   "metadata": {},
   "source": [
    "#### Start Dask Cluster\n",
    "  - Settings > Auto-Start Dask\n",
    "  - Use the new button!"
   ]
  },
  {
   "cell_type": "code",
   "execution_count": null,
   "metadata": {},
   "outputs": [],
   "source": [
    "client"
   ]
  },
  {
   "cell_type": "markdown",
   "metadata": {},
   "source": [
    "#### Build function for Dask delayed"
   ]
  },
  {
   "cell_type": "code",
   "execution_count": null,
   "metadata": {},
   "outputs": [],
   "source": [
    "import s3fs\n",
    "import xarray as xr"
   ]
  },
  {
   "cell_type": "code",
   "execution_count": null,
   "metadata": {},
   "outputs": [],
   "source": [
    "# function to open a zarr group on S3\n",
    "def open_zarr_group(zarr_group):\n",
    "    s3 = s3fs.S3FileSystem(anon=True)\n",
    "    try:\n",
    "        return xr.open_zarr(store=s3fs.S3Map(zarr_group, s3=s3), consolidated=True)\n",
    "    except:\n",
    "        return None"
   ]
  },
  {
   "cell_type": "markdown",
   "metadata": {},
   "source": [
    "#### Create list of Delayed objects"
   ]
  },
  {
   "cell_type": "code",
   "execution_count": null,
   "metadata": {},
   "outputs": [],
   "source": [
    "import datetime\n",
    "from dask import delayed"
   ]
  },
  {
   "cell_type": "code",
   "execution_count": null,
   "metadata": {},
   "outputs": [],
   "source": [
    "# zarr group base and start date\n",
    "zarr_group_base = 'io2data/data/RS01SBPS-SF01A-2A-CTDPFA102-streamed-ctdpf_sbe43_sample/'\n",
    "dt_start = datetime.date(year = 2019, month = 1, day = 1)\n",
    "\n",
    "# loop and create list of Dask delayed objects\n",
    "dsets_raw = []\n",
    "num_days = 20\n",
    "for i in range(num_days):\n",
    "    dt = dt_start + datetime.timedelta(days=i)\n",
    "    dt_str = dt.strftime(\"%Y%m%d\")\n",
    "    zarr_group = zarr_group_base + dt_str\n",
    "    print(zarr_group)\n",
    "    dsets_raw.append(delayed(open_zarr_group)(zarr_group))"
   ]
  },
  {
   "cell_type": "markdown",
   "metadata": {},
   "source": [
    "#### Run delayed functions on the Dask cluster"
   ]
  },
  {
   "cell_type": "code",
   "execution_count": null,
   "metadata": {},
   "outputs": [],
   "source": [
    "from dask import compute"
   ]
  },
  {
   "cell_type": "code",
   "execution_count": null,
   "metadata": {},
   "outputs": [],
   "source": [
    "%%time\n",
    "dsets_raw = compute(*dsets_raw)"
   ]
  },
  {
   "cell_type": "markdown",
   "metadata": {},
   "source": [
    "#### Remove \"None\" Objects, Concatenate, and Clean Up "
   ]
  },
  {
   "cell_type": "code",
   "execution_count": null,
   "metadata": {},
   "outputs": [],
   "source": [
    "dsets = []\n",
    "for dset_raw in dsets_raw:\n",
    "    if dset_raw != None:\n",
    "        dsets.append(dset_raw)\n",
    "len(dsets)"
   ]
  },
  {
   "cell_type": "code",
   "execution_count": null,
   "metadata": {},
   "outputs": [],
   "source": [
    "ds = xr.concat(dsets, dim='time')\n",
    "ds"
   ]
  },
  {
   "cell_type": "code",
   "execution_count": null,
   "metadata": {},
   "outputs": [],
   "source": [
    "ds = ds.reset_coords('seawater_pressure')\n",
    "ds"
   ]
  },
  {
   "cell_type": "code",
   "execution_count": null,
   "metadata": {},
   "outputs": [],
   "source": [
    "print('Dataset size: ~' + str(round(ds.nbytes/1024/1024)) + ' MB\\nPoints: ' + str(len(ds.time)))"
   ]
  },
  {
   "cell_type": "markdown",
   "metadata": {},
   "source": [
    "### Resample Data"
   ]
  },
  {
   "cell_type": "code",
   "execution_count": null,
   "metadata": {},
   "outputs": [],
   "source": [
    "%%time\n",
    "resampling_period = '4min'\n",
    "variables = ['time', 'seawater_pressure', 'corrected_dissolved_oxygen']\n",
    "ds_resampled = ds[variables].resample(time=resampling_period).mean().load()"
   ]
  },
  {
   "cell_type": "code",
   "execution_count": null,
   "metadata": {},
   "outputs": [],
   "source": [
    "360/100*8"
   ]
  },
  {
   "cell_type": "markdown",
   "metadata": {},
   "source": [
    "### Plot Using Hvplot"
   ]
  },
  {
   "cell_type": "code",
   "execution_count": null,
   "metadata": {},
   "outputs": [],
   "source": [
    "import holoviews as hv\n",
    "hv.extension('bokeh')\n",
    "import hvplot.pandas"
   ]
  },
  {
   "cell_type": "code",
   "execution_count": null,
   "metadata": {},
   "outputs": [],
   "source": [
    "df = ds_resampled.to_dataframe()\n",
    "df.reset_index(inplace=True)\n",
    "df.head()"
   ]
  },
  {
   "cell_type": "code",
   "execution_count": null,
   "metadata": {},
   "outputs": [],
   "source": [
    "df.hvplot.scatter('time', 'seawater_pressure', c='corrected_dissolved_oxygen',\n",
    "                  cmap='viridis', size=30, colorbar=True, flip_yaxis=True,\n",
    "                 ylim=(0, 200))"
   ]
  },
  {
   "cell_type": "markdown",
   "metadata": {},
   "source": [
    "## Additional Resources\n",
    "\n",
    "*@friedrichknuth*  \n",
    "[Real-time plotting with M2M](https://github.com/friedrichknuth/ooi_axial_realtime_profiler) (click binder link)  \n",
    "[Scatter plotting DO using M2M](https://github.com/ooi-data-review/ooi_datateam_notebooks/blob/master/notebooks/data_access_and_plotting/basic/netcdf_data/depth_scatter.ipynb)  \n",
    "\n",
    "*@ooi-data-review*  \n",
    "https://github.com/ooi-data-review/2018-data-workshops  \n",
    "https://github.com/friedrichknuth/ooi_data_analysis  \n",
    "https://github.com/ooi-data-review/ooi_datateam_notebooks\n",
    "\n"
   ]
  }
 ],
 "metadata": {
  "kernelspec": {
   "display_name": "Python 3",
   "language": "python",
   "name": "python3"
  },
  "language_info": {
   "codemirror_mode": {
    "name": "ipython",
    "version": 3
   },
   "file_extension": ".py",
   "mimetype": "text/x-python",
   "name": "python",
   "nbconvert_exporter": "python",
   "pygments_lexer": "ipython3",
   "version": "3.7.3"
  }
 },
 "nbformat": 4,
 "nbformat_minor": 4
}
