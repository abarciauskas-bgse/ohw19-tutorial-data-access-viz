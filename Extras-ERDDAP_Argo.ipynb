{
 "cells": [
  {
   "cell_type": "code",
   "execution_count": null,
   "metadata": {
    "slideshow": {
     "slide_type": "skip"
    }
   },
   "outputs": [],
   "source": [
    "%matplotlib inline"
   ]
  },
  {
   "cell_type": "code",
   "execution_count": null,
   "metadata": {
    "slideshow": {
     "slide_type": "slide"
    }
   },
   "outputs": [],
   "source": [
    "(\n",
    "    \"http://www.ifremer.fr/erddap/tabledap/ArgoFloats.graph\"\n",
    "    \"?longitude,latitude,date_creation\"\n",
    "    \"&time>=2018-08-05T00:00:00Z\"\n",
    "    \"&time<=2019-06-12T00:00:00Z\"\n",
    "    \"&longitude>=-133.75\"\n",
    "    \"&longitude<=-123.29\"\n",
    "    \"&latitude>=41.78\"\n",
    "    \"&latitude<=52.24\"\n",
    "    \"&.draw=markers\"\n",
    "    \"&.marker=5|5\"\n",
    "    \"&.color=0x000000\"\n",
    "    \"&.colorBar=|||||\"\n",
    "    \"&.bgColor=0xffccccff\"\n",
    ")"
   ]
  },
  {
   "cell_type": "code",
   "execution_count": null,
   "metadata": {
    "slideshow": {
     "slide_type": "slide"
    }
   },
   "outputs": [],
   "source": [
    "from erddapy import ERDDAP\n",
    "\n",
    "\n",
    "server = \"http://www.ifremer.fr/erddap\"\n",
    "e = ERDDAP(server=server)"
   ]
  },
  {
   "cell_type": "code",
   "execution_count": null,
   "metadata": {
    "slideshow": {
     "slide_type": "slide"
    }
   },
   "outputs": [],
   "source": [
    "e.constraints = {\n",
    "    \"time>=\": \"2018-08-05T00:00:00Z\",\n",
    "    \"time<=\": \"2019-06-12T00:00:00Z\",\n",
    "    \"longitude>=\": -133.75,\n",
    "    \"longitude<=\": -123.29,\n",
    "    \"latitude>=\": 41.78,\n",
    "    \"latitude<=\": 52.24,\n",
    "}"
   ]
  },
  {
   "cell_type": "code",
   "execution_count": null,
   "metadata": {
    "slideshow": {
     "slide_type": "slide"
    }
   },
   "outputs": [],
   "source": [
    "e.dataset_id = \"ArgoFloats\"\n",
    "e.protocol = \"tabledap\"\n",
    "\n",
    "e.variables = [\n",
    "    \"latitude\",\n",
    "    \"longitude\",\n",
    "    \"date_creation\",\n",
    "]\n",
    "\n",
    "\n",
    "df = e.to_pandas(\n",
    "    parse_dates=[\"date_creation (UTC)\"],\n",
    ")\n",
    "\n",
    "df[\"year\"] = df[\"date_creation (UTC)\"].dt.year"
   ]
  },
  {
   "cell_type": "code",
   "execution_count": null,
   "metadata": {
    "slideshow": {
     "slide_type": "slide"
    }
   },
   "outputs": [],
   "source": [
    "import matplotlib.pyplot as plt\n",
    "from cartopy_extras.topomaps import make_map, add_etopo2\n",
    "\n",
    "dx = dy = 0.25\n",
    "extent = (\n",
    "    df[\"longitude (degrees_east)\"].min()-dx,\n",
    "    df[\"longitude (degrees_east)\"].max()+dx,\n",
    "    df[\"latitude (degrees_north)\"].min()-dy,\n",
    "    df[\"latitude (degrees_north)\"].max()+dy,\n",
    ")"
   ]
  },
  {
   "cell_type": "code",
   "execution_count": null,
   "metadata": {
    "slideshow": {
     "slide_type": "slide"
    }
   },
   "outputs": [],
   "source": [
    "fig, ax = make_map(extent, figsize=(6, 6))\n",
    "add_etopo2(extent, ax)\n",
    "\n",
    "cs = ax.scatter(df[\"longitude (degrees_east)\"],\n",
    "                df[\"latitude (degrees_north)\"],\n",
    "                s=40, c=df[\"year\"], cmap=\"tab10\")\n",
    "\n",
    "fig.colorbar(cs);"
   ]
  },
  {
   "cell_type": "code",
   "execution_count": null,
   "metadata": {
    "slideshow": {
     "slide_type": "slide"
    }
   },
   "outputs": [],
   "source": [
    "import geoviews as gv\n",
    "import geoviews.feature as gf\n",
    "\n",
    "\n",
    "gv.extension(\"bokeh\")"
   ]
  },
  {
   "cell_type": "code",
   "execution_count": null,
   "metadata": {
    "slideshow": {
     "slide_type": "slide"
    }
   },
   "outputs": [],
   "source": [
    "argo = gv.Dataset(\n",
    "    df,\n",
    "    kdims=[\"year\"],\n",
    ")\n",
    "\n",
    "points = argo.to(\n",
    "    gv.Points,\n",
    "    [\"longitude (degrees_east)\", \"latitude (degrees_north)\"],\n",
    "    [\"year\"],\n",
    ")\n",
    "\n",
    "\n",
    "tiles = gv.tile_sources.Wikipedia"
   ]
  },
  {
   "cell_type": "code",
   "execution_count": null,
   "metadata": {
    "slideshow": {
     "slide_type": "slide"
    }
   },
   "outputs": [],
   "source": [
    "tiles * points.opts(tools=[\"hover\"], width=500, height=500,\n",
    "    size=10, cmap=\"tab10\", color=\"year\")"
   ]
  },
  {
   "cell_type": "markdown",
   "metadata": {
    "slideshow": {
     "slide_type": "slide"
    }
   },
   "source": [
    "Try to create your own request and graph with a dataset from this sever:\n",
    "\n",
    "https://cyborgsealsfor.science:8443/erddap"
   ]
  }
 ],
 "metadata": {
  "celltoolbar": "Slideshow",
  "kernelspec": {
   "display_name": "Python 3",
   "language": "python",
   "name": "python3"
  },
  "language_info": {
   "codemirror_mode": {
    "name": "ipython",
    "version": 3
   },
   "file_extension": ".py",
   "mimetype": "text/x-python",
   "name": "python",
   "nbconvert_exporter": "python",
   "pygments_lexer": "ipython3",
   "version": "3.7.3"
  },
  "livereveal": {
   "auto_select": "none",
   "autolaunch": "false",
   "footer": " ",
   "header": "<script src='static/theme/reveal.js'></script>",
   "start_slideshow_at": "selected"
  }
 },
 "nbformat": 4,
 "nbformat_minor": 2
}
